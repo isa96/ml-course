{
  "cells": [
    {
      "cell_type": "markdown",
      "metadata": {
        "id": "wiKDGlCqKpgL"
      },
      "source": [
        "Dataset dari Tensorflow: [Tensorflow Datasets](https://www.tensorflow.org/api_docs/python/tf/keras/datasets)\n",
        "\n",
        "Sumber recreation: [Dicoding](dicoding.com)"
      ]
    },
    {
      "cell_type": "markdown",
      "metadata": {
        "id": "L3SAYnr1LFMb"
      },
      "source": [
        "1. Impor Library tensorflow"
      ]
    },
    {
      "cell_type": "code",
      "execution_count": 1,
      "metadata": {
        "colab": {
          "base_uri": "https://localhost:8080/"
        },
        "id": "C04vujRKKkCS",
        "outputId": "5b5a5be8-85d3-45fe-a615-8eb1293ca0d6"
      },
      "outputs": [
        {
          "name": "stdout",
          "output_type": "stream",
          "text": [
            "2.7.0\n"
          ]
        }
      ],
      "source": [
        "import tensorflow as tf\n",
        "print(tf.__version__)"
      ]
    },
    {
      "cell_type": "markdown",
      "metadata": {
        "id": "T1MJVsKaLLZT"
      },
      "source": [
        "2. Buat objek untuk menampung dataset. Masukkan fungsi tf.keras.datasets.<nama_dataset> pada objek tersebut"
      ]
    },
    {
      "cell_type": "code",
      "execution_count": 2,
      "metadata": {
        "id": "x_ZxOdoFLUh7"
      },
      "outputs": [],
      "source": [
        "mnist = tf.keras.datasets.mnist"
      ]
    },
    {
      "cell_type": "markdown",
      "metadata": {
        "id": "fpGWeeD6MjdD"
      },
      "source": [
        "3. Fungsi load_data() dari objek dataset mengembalikan dataset yang telah dibagi menjadi atribut latih, label latih, atribut uji, dan label uji. "
      ]
    },
    {
      "cell_type": "code",
      "execution_count": 3,
      "metadata": {
        "colab": {
          "base_uri": "https://localhost:8080/"
        },
        "id": "HDekJgyXMknu",
        "outputId": "f81c555a-d389-4e02-c75f-d9c76508bd0e"
      },
      "outputs": [
        {
          "name": "stdout",
          "output_type": "stream",
          "text": [
            "Downloading data from https://storage.googleapis.com/tensorflow/tf-keras-datasets/mnist.npz\n",
            "11493376/11490434 [==============================] - 0s 0us/step\n",
            "11501568/11490434 [==============================] - 0s 0us/step\n"
          ]
        }
      ],
      "source": [
        "(gambar_latih, label_latih), (gambar_testing, label_testing) = mnist.load_data()"
      ]
    },
    {
      "cell_type": "markdown",
      "metadata": {
        "id": "wNuxCcZXMp_q"
      },
      "source": [
        "4. Menampilkan label dan salah satu gambar dari data latih menggunakan library matplotlib"
      ]
    },
    {
      "cell_type": "code",
      "execution_count": 4,
      "metadata": {
        "colab": {
          "base_uri": "https://localhost:8080/",
          "height": 283
        },
        "id": "qhS0Er_AMtJt",
        "outputId": "084fcaaa-211d-4449-d81b-f35049efd039"
      },
      "outputs": [
        {
          "name": "stdout",
          "output_type": "stream",
          "text": [
            "2\n"
          ]
        },
        {
          "data": {
            "image/png": "[encoded data removed]",
            "text/plain": [
              "<Figure size 432x288 with 1 Axes>"
            ]
          },
          "metadata": {
            "needs_background": "light"
          },
          "output_type": "display_data"
        }
      ],
      "source": [
        "import numpy as np\n",
        "np.set_printoptions(linewidth=200)\n",
        "import matplotlib.pyplot as plt\n",
        "plt.imshow(gambar_latih[5])\n",
        "print(label_latih[5])"
      ]
    },
    {
      "cell_type": "markdown",
      "metadata": {
        "id": "cwcflfjkM6ka"
      },
      "source": [
        "5. Namun, dataset di atas masih belum dinormalisasi. Sehingga dataset harus dinormalisasi secara manual. Kode di bawah berfungsi untuk membagi setiap piksel pada gambar sebesar 255. Karena, nilai sebuah piksel berkisar dari 0 sampai 255."
      ]
    },
    {
      "cell_type": "code",
      "execution_count": 5,
      "metadata": {
        "id": "-YfZZ0d6NGv3"
      },
      "outputs": [],
      "source": [
        "gambar_latih  = gambar_latih / 255.0\n",
        "gambar_testing = gambar_testing / 255.0"
      ]
    },
    {
      "cell_type": "markdown",
      "metadata": {
        "id": "3uL7ABHHNNAX"
      },
      "source": [
        "6. Menerapkan 3 layer sebagai arsitektur model. Untuk layer pertama, digunakan layer khusus yaitu Flatten yang berfungsi untuk mengubah input yang berupa matriks 2 dimensi menjadi array 1 dimensi. "
      ]
    },
    {
      "cell_type": "code",
      "execution_count": 6,
      "metadata": {
        "id": "vxox_EPfNeGv"
      },
      "outputs": [],
      "source": [
        "model = tf.keras.models.Sequential([tf.keras.layers.Flatten(input_shape=(28,28)), \n",
        "                                    tf.keras.layers.Dense(128, activation=tf.nn.relu), \n",
        "                                    tf.keras.layers.Dense(10, activation=tf.nn.softmax)])"
      ]
    },
    {
      "cell_type": "markdown",
      "metadata": {
        "id": "lVxDkpAoNior"
      },
      "source": [
        "7. Menetapkan optimizer dan loss untuk model, dan mulai pelatihan model. "
      ]
    },
    {
      "cell_type": "code",
      "execution_count": 7,
      "metadata": {
        "colab": {
          "base_uri": "https://localhost:8080/"
        },
        "id": "ONSC-ClHNo08",
        "outputId": "6651d845-5ec8-49e6-c31a-9ee9c5923d60"
      },
      "outputs": [
        {
          "name": "stdout",
          "output_type": "stream",
          "text": [
            "Epoch 1/5\n",
            "1875/1875 [==============================] - 11s 5ms/step - loss: 0.2587 - accuracy: 0.9264\n",
            "Epoch 2/5\n",
            "1875/1875 [==============================] - 6s 3ms/step - loss: 0.1150 - accuracy: 0.9664\n",
            "Epoch 3/5\n",
            "1875/1875 [==============================] - 5s 3ms/step - loss: 0.0792 - accuracy: 0.9763\n",
            "Epoch 4/5\n",
            "1875/1875 [==============================] - 5s 3ms/step - loss: 0.0602 - accuracy: 0.9814\n",
            "Epoch 5/5\n",
            "1875/1875 [==============================] - 5s 3ms/step - loss: 0.0479 - accuracy: 0.9848\n"
          ]
        },
        {
          "data": {
            "text/plain": [
              "<keras.callbacks.History at 0x7f65672b75d0>"
            ]
          },
          "execution_count": 7,
          "metadata": {},
          "output_type": "execute_result"
        }
      ],
      "source": [
        "model.compile(optimizer = tf.optimizers.Adam(),\n",
        "              loss = 'sparse_categorical_crossentropy',\n",
        "              metrics=['accuracy'])\n",
        "model.fit(gambar_latih, label_latih, epochs=5)"
      ]
    }
  ],
  "metadata": {
    "colab": {
      "authorship_tag": "ABX9TyOi1G/Kmu3/Cek96IMQGNYA",
      "include_colab_link": true,
      "name": "Dicoding-Recreate Digit Recognition.ipynb",
      "provenance": []
    },
    "kernelspec": {
      "display_name": "Python 3",
      "name": "python3"
    },
    "language_info": {
      "name": "python"
    }
  },
  "nbformat": 4,
  "nbformat_minor": 0
}
