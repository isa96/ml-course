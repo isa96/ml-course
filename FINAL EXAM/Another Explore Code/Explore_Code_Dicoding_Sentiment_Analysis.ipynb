{
  "cells": [
    {
      "cell_type": "markdown",
      "metadata": {
        "id": "KVguQI7WXCPN"
      },
      "source": [
        "Kasus:\n",
        "\n",
        "Membedakan review positif dan negatif dari pelanggan kepada suatu restoran.\n",
        "\n",
        "Dataset yang digunakan: [Yelp](https://www.kaggle.com/marklvl/sentiment-labelled-sentences-data-set) (berisi review dari beberapa restoran di US)\n",
        "\n",
        "Sumber belajar/explore NLP-Sentiment Analysis: [Dicoding-Pengembangan Machine Learning](https://www.dicoding.com/academies/185)"
      ]
    },
    {
      "cell_type": "markdown",
      "metadata": {
        "id": "s5n5EXr7Yslz"
      },
      "source": [
        "* Load dataset pada Colaboratory.\n",
        "* Buat dataframe dari dataset agar lebih mudah diproses"
      ]
    },
    {
      "cell_type": "code",
      "execution_count": 4,
      "metadata": {
        "id": "Lly7xwI9PDgW"
      },
      "outputs": [],
      "source": [
        "import pandas as pd\n",
        "df = pd.read_csv('yelp_labelled.txt', names=['sentence', 'label'], sep='\\t')"
      ]
    },
    {
      "cell_type": "markdown",
      "metadata": {
        "id": "ey1viURCY4f2"
      },
      "source": [
        "* Melihat 5 sampel terakhir dari datase"
      ]
    },
    {
      "cell_type": "code",
      "execution_count": 5,
      "metadata": {
        "colab": {
          "base_uri": "https://localhost:8080/",
          "height": 206
        },
        "id": "ab6veJZtZNP6",
        "outputId": "86fccb44-f293-4926-d903-ab8901b37529"
      },
      "outputs": [
        {
          "data": {
            "text/html": [
              "\n",
              "  <div id=\"df-c69e35e7-bce3-4667-bcc8-206a02e59277\">\n",
              "    <div class=\"colab-df-container\">\n",
              "      <div>\n",
              "<style scoped>\n",
              "    .dataframe tbody tr th:only-of-type {\n",
              "        vertical-align: middle;\n",
              "    }\n",
              "\n",
              "    .dataframe tbody tr th {\n",
              "        vertical-align: top;\n",
              "    }\n",
              "\n",
              "    .dataframe thead th {\n",
              "        text-align: right;\n",
              "    }\n",
              "</style>\n",
              "<table border=\"1\" class=\"dataframe\">\n",
              "  <thead>\n",
              "    <tr style=\"text-align: right;\">\n",
              "      <th></th>\n",
              "      <th>sentence</th>\n",
              "      <th>label</th>\n",
              "    </tr>\n",
              "  </thead>\n",
              "  <tbody>\n",
              "    <tr>\n",
              "      <th>995</th>\n",
              "      <td>I think food should have flavor and texture an...</td>\n",
              "      <td>0</td>\n",
              "    </tr>\n",
              "    <tr>\n",
              "      <th>996</th>\n",
              "      <td>Appetite instantly gone.</td>\n",
              "      <td>0</td>\n",
              "    </tr>\n",
              "    <tr>\n",
              "      <th>997</th>\n",
              "      <td>Overall I was not impressed and would not go b...</td>\n",
              "      <td>0</td>\n",
              "    </tr>\n",
              "    <tr>\n",
              "      <th>998</th>\n",
              "      <td>The whole experience was underwhelming, and I ...</td>\n",
              "      <td>0</td>\n",
              "    </tr>\n",
              "    <tr>\n",
              "      <th>999</th>\n",
              "      <td>Then, as if I hadn't wasted enough of my life ...</td>\n",
              "      <td>0</td>\n",
              "    </tr>\n",
              "  </tbody>\n",
              "</table>\n",
              "</div>\n",
              "      <button class=\"colab-df-convert\" onclick=\"convertToInteractive('df-c69e35e7-bce3-4667-bcc8-206a02e59277')\"\n",
              "              title=\"Convert this dataframe to an interactive table.\"\n",
              "              style=\"display:none;\">\n",
              "        \n",
              "  <svg xmlns=\"http://www.w3.org/2000/svg\" height=\"24px\"viewBox=\"0 0 24 24\"\n",
              "       width=\"24px\">\n",
              "    <path d=\"M0 0h24v24H0V0z\" fill=\"none\"/>\n",
              "    <path d=\"M18.56 5.44l.94 2.06.94-2.06 2.06-.94-2.06-.94-.94-2.06-.94 2.06-2.06.94zm-11 1L8.5 8.5l.94-2.06 2.06-.94-2.06-.94L8.5 2.5l-.94 2.06-2.06.94zm10 10l.94 2.06.94-2.06 2.06-.94-2.06-.94-.94-2.06-.94 2.06-2.06.94z\"/><path d=\"M17.41 7.96l-1.37-1.37c-.4-.4-.92-.59-1.43-.59-.52 0-1.04.2-1.43.59L10.3 9.45l-7.72 7.72c-.78.78-.78 2.05 0 2.83L4 21.41c.39.39.9.59 1.41.59.51 0 1.02-.2 1.41-.59l7.78-7.78 2.81-2.81c.8-.78.8-2.07 0-2.86zM5.41 20L4 18.59l7.72-7.72 1.47 1.35L5.41 20z\"/>\n",
              "  </svg>\n",
              "      </button>\n",
              "      \n",
              "  <style>\n",
              "    .colab-df-container {\n",
              "      display:flex;\n",
              "      flex-wrap:wrap;\n",
              "      gap: 12px;\n",
              "    }\n",
              "\n",
              "    .colab-df-convert {\n",
              "      background-color: #E8F0FE;\n",
              "      border: none;\n",
              "      border-radius: 50%;\n",
              "      cursor: pointer;\n",
              "      display: none;\n",
              "      fill: #1967D2;\n",
              "      height: 32px;\n",
              "      padding: 0 0 0 0;\n",
              "      width: 32px;\n",
              "    }\n",
              "\n",
              "    .colab-df-convert:hover {\n",
              "      background-color: #E2EBFA;\n",
              "      box-shadow: 0px 1px 2px rgba(60, 64, 67, 0.3), 0px 1px 3px 1px rgba(60, 64, 67, 0.15);\n",
              "      fill: #174EA6;\n",
              "    }\n",
              "\n",
              "    [theme=dark] .colab-df-convert {\n",
              "      background-color: #3B4455;\n",
              "      fill: #D2E3FC;\n",
              "    }\n",
              "\n",
              "    [theme=dark] .colab-df-convert:hover {\n",
              "      background-color: #434B5C;\n",
              "      box-shadow: 0px 1px 3px 1px rgba(0, 0, 0, 0.15);\n",
              "      filter: drop-shadow(0px 1px 2px rgba(0, 0, 0, 0.3));\n",
              "      fill: #FFFFFF;\n",
              "    }\n",
              "  </style>\n",
              "\n",
              "      <script>\n",
              "        const buttonEl =\n",
              "          document.querySelector('#df-c69e35e7-bce3-4667-bcc8-206a02e59277 button.colab-df-convert');\n",
              "        buttonEl.style.display =\n",
              "          google.colab.kernel.accessAllowed ? 'block' : 'none';\n",
              "\n",
              "        async function convertToInteractive(key) {\n",
              "          const element = document.querySelector('#df-c69e35e7-bce3-4667-bcc8-206a02e59277');\n",
              "          const dataTable =\n",
              "            await google.colab.kernel.invokeFunction('convertToInteractive',\n",
              "                                                     [key], {});\n",
              "          if (!dataTable) return;\n",
              "\n",
              "          const docLinkHtml = 'Like what you see? Visit the ' +\n",
              "            '<a target=\"_blank\" href=https://colab.research.google.com/notebooks/data_table.ipynb>data table notebook</a>'\n",
              "            + ' to learn more about interactive tables.';\n",
              "          element.innerHTML = '';\n",
              "          dataTable['output_type'] = 'display_data';\n",
              "          await google.colab.output.renderOutput(dataTable, element);\n",
              "          const docLink = document.createElement('div');\n",
              "          docLink.innerHTML = docLinkHtml;\n",
              "          element.appendChild(docLink);\n",
              "        }\n",
              "      </script>\n",
              "    </div>\n",
              "  </div>\n",
              "  "
            ],
            "text/plain": [
              "                                              sentence  label\n",
              "995  I think food should have flavor and texture an...      0\n",
              "996                           Appetite instantly gone.      0\n",
              "997  Overall I was not impressed and would not go b...      0\n",
              "998  The whole experience was underwhelming, and I ...      0\n",
              "999  Then, as if I hadn't wasted enough of my life ...      0"
            ]
          },
          "execution_count": 5,
          "metadata": {},
          "output_type": "execute_result"
        }
      ],
      "source": [
        "df.tail()"
      ]
    },
    {
      "cell_type": "markdown",
      "metadata": {
        "id": "hG8SJ86hZXp_"
      },
      "source": [
        "* Bagi dataset menjadi train dan test set."
      ]
    },
    {
      "cell_type": "code",
      "execution_count": 6,
      "metadata": {
        "id": "47THgy28ZoFl"
      },
      "outputs": [],
      "source": [
        "from sklearn.model_selection import train_test_split\n",
        "kalimat = df['sentence'].values\n",
        "y = df['label'].values\n",
        "kalimat_latih, kalimat_test, y_latih, y_test = train_test_split(kalimat, y, test_size=0.2)"
      ]
    },
    {
      "cell_type": "markdown",
      "metadata": {
        "id": "_UVbDDgjZyyd"
      },
      "source": [
        "* Melakukan tokenisasi dengan fungsi tokenizer supaya teks  dapat dipahami oleh model. Menerapkan tokenisasi pada data latih dan data test.\n",
        "\n",
        "  Proses mengonversi kata-kata ke dalam bilangan numerik dapat kita sebut juga sebagai **tokenisasi**. \n",
        "\n",
        "  Parameter **num_words** adalah jumlah kata yang akan dikonversi ke dalam token/bilangan numerik. Jika parameter num_words diatur sebanyak 15, hanya 15 kata yang paling sering muncul. 15 kata tersebut akan ditokenisasi dari seluruh kata pada dataset. \n",
        "\n",
        "  Sedangkan parameter **oov_token** adalah parameter yang berfungsi untuk mengganti kata-kata yang tidak ditokenisasi menjadi karakter tertentu."
      ]
    },
    {
      "cell_type": "code",
      "execution_count": 7,
      "metadata": {
        "id": "rhfMmVGeaNMe"
      },
      "outputs": [],
      "source": [
        "from tensorflow.keras.preprocessing.text import Tokenizer\n",
        "\n",
        "tokenizer = Tokenizer(num_words=250, oov_token='x')\n",
        "tokenizer.fit_on_texts(kalimat_latih) \n",
        "tokenizer.fit_on_texts(kalimat_test)"
      ]
    },
    {
      "cell_type": "markdown",
      "metadata": {
        "id": "Yl6jTBreaYr4"
      },
      "source": [
        "* Mengubah text yang telah dibuat sebelumnya ke dalam bentuk sequence menggunakan fungsi text_to_sequences.\n",
        "\n",
        " Sebuah **sekuens** adalah sebuah larik yang berisi kumpulan token sesuai dengan setiap kata pada sebuah kalimat dalam teks."
      ]
    },
    {
      "cell_type": "code",
      "execution_count": 8,
      "metadata": {
        "id": "Yjx9unVUaZGF"
      },
      "outputs": [],
      "source": [
        "sekuens_latih = tokenizer.texts_to_sequences(kalimat_latih)\n",
        "sekuens_test = tokenizer.texts_to_sequences(kalimat_test)"
      ]
    },
    {
      "cell_type": "markdown",
      "metadata": {
        "id": "o1fLwrVAa45x"
      },
      "source": [
        "* Menggunakan fungsi pad_sequences agar setiap sequence sama panjang\n",
        "\n",
        "  Pada padding, setiap sequence dibuat sama panjang dengan menambahkan nilai 0 secara sufiks atau prefiks hingga mencapai panjang maksimum sequence. Selain itu padding juga dapat memotong sequence hingga panjangnya sesuai dengan panjang maksimum sequence."
      ]
    },
    {
      "cell_type": "code",
      "execution_count": 9,
      "metadata": {
        "id": "roqI4PPra7Pp"
      },
      "outputs": [],
      "source": [
        "from tensorflow.keras.preprocessing.sequence import pad_sequences\n",
        "\n",
        "padded_latih = pad_sequences(sekuens_latih, maxlen=20) \n",
        "padded_test = pad_sequences(sekuens_test, maxlen=20)"
      ]
    },
    {
      "cell_type": "markdown",
      "metadata": {
        "id": "GiUfBr3ebpnv"
      },
      "source": [
        "* Untuk arsitektur yang akan digunakan adalah layer embedding. \n",
        "\n",
        "  Argumen pertama sesuai dengan jumlah vocabulary/kata yang kita pakai pada tokenizer. \n",
        "  \n",
        "  Argumen selanjutnya adalah dimensi embedding, dan input_length yang merupakan panjang dari sequence. \n",
        "  \n",
        "  Terapkan fungsi GlobalAveragePooling1D."
      ]
    },
    {
      "cell_type": "code",
      "execution_count": 10,
      "metadata": {
        "id": "Tnlr9JNKdex3"
      },
      "outputs": [],
      "source": [
        "import tensorflow as tf\n",
        "\n",
        "model = tf.keras.Sequential([\n",
        "    tf.keras.layers.Embedding(250, 16, input_length=20),\n",
        "    tf.keras.layers.GlobalAveragePooling1D(),\n",
        "    tf.keras.layers.Dense(24, activation='relu'),\n",
        "    tf.keras.layers.Dense(1, activation='sigmoid')\n",
        "])"
      ]
    },
    {
      "cell_type": "markdown",
      "metadata": {
        "id": "64duwaPOd9Lw"
      },
      "source": [
        "* Panggil fungsi compile. \n",
        "\n",
        "  Karena ini merupakan kasus klasifikasi dua kelas, maka menggunakan 'binary_crossentropy' sebagai nilai dari loss.\n",
        "\n",
        "  Menggunakan optimize 'adam'\n",
        "\n",
        "  Untuk menghitung seberapa sering  hasil prediksi sesuai dengan label, maka menggunakan metrics=['accuracy']."
      ]
    },
    {
      "cell_type": "code",
      "execution_count": 11,
      "metadata": {
        "id": "320fqrQWd9ej"
      },
      "outputs": [],
      "source": [
        "model.compile(loss='binary_crossentropy',optimizer='adam',metrics=['accuracy'])"
      ]
    },
    {
      "cell_type": "markdown",
      "metadata": {
        "id": "By1DD1zSe2TQ"
      },
      "source": [
        "* Melakukan pelatihan model"
      ]
    },
    {
      "cell_type": "code",
      "execution_count": 12,
      "metadata": {
        "colab": {
          "base_uri": "https://localhost:8080/"
        },
        "id": "_nR58v7se5Ww",
        "outputId": "c2b3ab8e-effb-4412-d0d7-3a63b77b161b"
      },
      "outputs": [
        {
          "name": "stdout",
          "output_type": "stream",
          "text": [
            "Epoch 1/30\n",
            "25/25 - 1s - loss: 0.6930 - accuracy: 0.5063 - val_loss: 0.6914 - val_accuracy: 0.6650 - 844ms/epoch - 34ms/step\n",
            "Epoch 2/30\n",
            "25/25 - 0s - loss: 0.6897 - accuracy: 0.5938 - val_loss: 0.6896 - val_accuracy: 0.5700 - 54ms/epoch - 2ms/step\n",
            "Epoch 3/30\n",
            "25/25 - 0s - loss: 0.6857 - accuracy: 0.6075 - val_loss: 0.6861 - val_accuracy: 0.5650 - 64ms/epoch - 3ms/step\n",
            "Epoch 4/30\n",
            "25/25 - 0s - loss: 0.6781 - accuracy: 0.6237 - val_loss: 0.6796 - val_accuracy: 0.5650 - 60ms/epoch - 2ms/step\n",
            "Epoch 5/30\n",
            "25/25 - 0s - loss: 0.6664 - accuracy: 0.6500 - val_loss: 0.6670 - val_accuracy: 0.6150 - 70ms/epoch - 3ms/step\n",
            "Epoch 6/30\n",
            "25/25 - 0s - loss: 0.6480 - accuracy: 0.7125 - val_loss: 0.6554 - val_accuracy: 0.6100 - 53ms/epoch - 2ms/step\n",
            "Epoch 7/30\n",
            "25/25 - 0s - loss: 0.6238 - accuracy: 0.7225 - val_loss: 0.6336 - val_accuracy: 0.6650 - 55ms/epoch - 2ms/step\n",
            "Epoch 8/30\n",
            "25/25 - 0s - loss: 0.5923 - accuracy: 0.7875 - val_loss: 0.6079 - val_accuracy: 0.7400 - 63ms/epoch - 3ms/step\n",
            "Epoch 9/30\n",
            "25/25 - 0s - loss: 0.5575 - accuracy: 0.7925 - val_loss: 0.5839 - val_accuracy: 0.7450 - 54ms/epoch - 2ms/step\n",
            "Epoch 10/30\n",
            "25/25 - 0s - loss: 0.5231 - accuracy: 0.8112 - val_loss: 0.5602 - val_accuracy: 0.7400 - 53ms/epoch - 2ms/step\n",
            "Epoch 11/30\n",
            "25/25 - 0s - loss: 0.4869 - accuracy: 0.8275 - val_loss: 0.5401 - val_accuracy: 0.7400 - 65ms/epoch - 3ms/step\n",
            "Epoch 12/30\n",
            "25/25 - 0s - loss: 0.4561 - accuracy: 0.8288 - val_loss: 0.5194 - val_accuracy: 0.7600 - 67ms/epoch - 3ms/step\n",
            "Epoch 13/30\n",
            "25/25 - 0s - loss: 0.4275 - accuracy: 0.8338 - val_loss: 0.5075 - val_accuracy: 0.7400 - 55ms/epoch - 2ms/step\n",
            "Epoch 14/30\n",
            "25/25 - 0s - loss: 0.4032 - accuracy: 0.8425 - val_loss: 0.4938 - val_accuracy: 0.7550 - 63ms/epoch - 3ms/step\n",
            "Epoch 15/30\n",
            "25/25 - 0s - loss: 0.3864 - accuracy: 0.8512 - val_loss: 0.4968 - val_accuracy: 0.7300 - 54ms/epoch - 2ms/step\n",
            "Epoch 16/30\n",
            "25/25 - 0s - loss: 0.3659 - accuracy: 0.8612 - val_loss: 0.4907 - val_accuracy: 0.7400 - 53ms/epoch - 2ms/step\n",
            "Epoch 17/30\n",
            "25/25 - 0s - loss: 0.3509 - accuracy: 0.8662 - val_loss: 0.4823 - val_accuracy: 0.7400 - 64ms/epoch - 3ms/step\n",
            "Epoch 18/30\n",
            "25/25 - 0s - loss: 0.3372 - accuracy: 0.8725 - val_loss: 0.4807 - val_accuracy: 0.7500 - 53ms/epoch - 2ms/step\n",
            "Epoch 19/30\n",
            "25/25 - 0s - loss: 0.3262 - accuracy: 0.8750 - val_loss: 0.4929 - val_accuracy: 0.7550 - 50ms/epoch - 2ms/step\n",
            "Epoch 20/30\n",
            "25/25 - 0s - loss: 0.3215 - accuracy: 0.8712 - val_loss: 0.4859 - val_accuracy: 0.7650 - 70ms/epoch - 3ms/step\n",
            "Epoch 21/30\n",
            "25/25 - 0s - loss: 0.3072 - accuracy: 0.8775 - val_loss: 0.4844 - val_accuracy: 0.7800 - 52ms/epoch - 2ms/step\n",
            "Epoch 22/30\n",
            "25/25 - 0s - loss: 0.3007 - accuracy: 0.8875 - val_loss: 0.4898 - val_accuracy: 0.7650 - 67ms/epoch - 3ms/step\n",
            "Epoch 23/30\n",
            "25/25 - 0s - loss: 0.2933 - accuracy: 0.8800 - val_loss: 0.4913 - val_accuracy: 0.7750 - 65ms/epoch - 3ms/step\n",
            "Epoch 24/30\n",
            "25/25 - 0s - loss: 0.2915 - accuracy: 0.8875 - val_loss: 0.4992 - val_accuracy: 0.7750 - 68ms/epoch - 3ms/step\n",
            "Epoch 25/30\n",
            "25/25 - 0s - loss: 0.2831 - accuracy: 0.8888 - val_loss: 0.4921 - val_accuracy: 0.7950 - 48ms/epoch - 2ms/step\n",
            "Epoch 26/30\n",
            "25/25 - 0s - loss: 0.2782 - accuracy: 0.8875 - val_loss: 0.5001 - val_accuracy: 0.7900 - 67ms/epoch - 3ms/step\n",
            "Epoch 27/30\n",
            "25/25 - 0s - loss: 0.2735 - accuracy: 0.8913 - val_loss: 0.5183 - val_accuracy: 0.7550 - 59ms/epoch - 2ms/step\n",
            "Epoch 28/30\n",
            "25/25 - 0s - loss: 0.2709 - accuracy: 0.8938 - val_loss: 0.5279 - val_accuracy: 0.7500 - 54ms/epoch - 2ms/step\n",
            "Epoch 29/30\n",
            "25/25 - 0s - loss: 0.2693 - accuracy: 0.8875 - val_loss: 0.5110 - val_accuracy: 0.7950 - 71ms/epoch - 3ms/step\n",
            "Epoch 30/30\n",
            "25/25 - 0s - loss: 0.2644 - accuracy: 0.8938 - val_loss: 0.5201 - val_accuracy: 0.7700 - 64ms/epoch - 3ms/step\n"
          ]
        }
      ],
      "source": [
        "num_epochs = 30\n",
        "history = model.fit(padded_latih, y_latih, epochs=num_epochs, validation_data=(padded_test, y_test), verbose=2)"
      ]
    }
  ],
  "metadata": {
    "accelerator": "GPU",
    "colab": {
      "authorship_tag": "ABX9TyPjFn7MZD/rSMR2yh2efMYQ",
      "collapsed_sections": [],
      "include_colab_link": true,
      "name": "Explore Code-Dicoding-Sentiment Analysis.ipynb",
      "provenance": []
    },
    "kernelspec": {
      "display_name": "Python 3",
      "name": "python3"
    },
    "language_info": {
      "name": "python"
    }
  },
  "nbformat": 4,
  "nbformat_minor": 0
}
