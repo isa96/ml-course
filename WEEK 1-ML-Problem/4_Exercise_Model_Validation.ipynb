{
  "cells": [
    {
      "cell_type": "markdown",
      "metadata": {
        "id": "E4_JetkTdwQv"
      },
      "source": [
        "Machine Learning Model Validation\n",
        "\n",
        "cr: https://www.kaggle.com/shintahanafia/exercise-model-validation/edit"
      ]
    },
    {
      "cell_type": "code",
      "execution_count": 2,
      "metadata": {
        "colab": {
          "base_uri": "https://localhost:8080/"
        },
        "id": "gH3v_7L5dRMO",
        "outputId": "99fde132-1083-4b83-f9af-8a7cea30bbc1"
      },
      "outputs": [
        {
          "name": "stdout",
          "output_type": "stream",
          "text": [
            "First in-sample predictions: [208500. 181500. 223500. 140000. 250000.]\n",
            "Actual target values for those homes: [208500, 181500, 223500, 140000, 250000]\n"
          ]
        }
      ],
      "source": [
        "# Code you have previously used to load data\n",
        "import pandas as pd\n",
        "from sklearn.tree import DecisionTreeRegressor\n",
        "\n",
        "# Path of the file to read\n",
        "iowa_file_path = 'train.csv'\n",
        "\n",
        "home_data = pd.read_csv(iowa_file_path)\n",
        "y = home_data.SalePrice\n",
        "feature_columns = ['LotArea', 'YearBuilt', '1stFlrSF', '2ndFlrSF', 'FullBath', 'BedroomAbvGr', 'TotRmsAbvGrd']\n",
        "X = home_data[feature_columns]\n",
        "\n",
        "# Specify Model\n",
        "iowa_model = DecisionTreeRegressor()\n",
        "# Fit Model\n",
        "iowa_model.fit(X, y)\n",
        "\n",
        "print(\"First in-sample predictions:\", iowa_model.predict(X.head()))\n",
        "print(\"Actual target values for those homes:\", y.head().tolist())"
      ]
    },
    {
      "cell_type": "markdown",
      "metadata": {
        "id": "7zEvkjGfdjeS"
      },
      "source": [
        "# Step 1: Split Your Data\n",
        "Use the train_test_split function to split up your data.\n",
        "\n",
        "Give it the argument random_state=1 so the check functions know what to expect when verifying your code."
      ]
    },
    {
      "cell_type": "code",
      "execution_count": 4,
      "metadata": {
        "id": "jQQsBy_hdnlF"
      },
      "outputs": [],
      "source": [
        "# Import the train_test_split function and uncomment\n",
        "from sklearn.model_selection import train_test_split\n",
        "\n",
        "# fill in and uncomment\n",
        "train_X, val_X, train_y, val_y = train_test_split(X, y, random_state = 1)"
      ]
    },
    {
      "cell_type": "markdown",
      "metadata": {
        "id": "qDTRL9KNeXMA"
      },
      "source": [
        "# Step 2: Specify and Fit the Model\n",
        "Create a DecisionTreeRegressor model and fit it to the relevant data. Set random_state to 1 again when creating the model."
      ]
    },
    {
      "cell_type": "code",
      "execution_count": 6,
      "metadata": {
        "colab": {
          "base_uri": "https://localhost:8080/"
        },
        "id": "urollwXshKVc",
        "outputId": "3e2da6d9-845d-4738-8d83-c179db573cbe"
      },
      "outputs": [
        {
          "data": {
            "text/plain": [
              "DecisionTreeRegressor(ccp_alpha=0.0, criterion='mse', max_depth=None,\n",
              "                      max_features=None, max_leaf_nodes=None,\n",
              "                      min_impurity_decrease=0.0, min_impurity_split=None,\n",
              "                      min_samples_leaf=1, min_samples_split=2,\n",
              "                      min_weight_fraction_leaf=0.0, presort='deprecated',\n",
              "                      random_state=1, splitter='best')"
            ]
          },
          "execution_count": 6,
          "metadata": {},
          "output_type": "execute_result"
        }
      ],
      "source": [
        "# You imported DecisionTreeRegressor in your last exercise\n",
        "# and that code has been copied to the setup code above. So, no need to\n",
        "# import it again\n",
        "\n",
        "# Specify the model\n",
        "iowa_model = DecisionTreeRegressor(random_state=1)\n",
        "# Fit iowa_model with the training data.\n",
        "iowa_model.fit(train_X, train_y)"
      ]
    },
    {
      "cell_type": "markdown",
      "metadata": {
        "id": "mpM0JCAWh-PD"
      },
      "source": [
        "# Step 3: Make Predictions with Validation data"
      ]
    },
    {
      "cell_type": "code",
      "execution_count": 8,
      "metadata": {
        "id": "Ren--sEah9pF"
      },
      "outputs": [],
      "source": [
        "# Predict with all validation observations\n",
        "val_predictions = iowa_model.predict(val_X)"
      ]
    },
    {
      "cell_type": "code",
      "execution_count": 10,
      "metadata": {
        "colab": {
          "base_uri": "https://localhost:8080/"
        },
        "id": "jLF47sQJiVnM",
        "outputId": "701b06d0-9551-4837-8ec2-04ca0d2642e4"
      },
      "outputs": [
        {
          "name": "stdout",
          "output_type": "stream",
          "text": [
            "[186500. 184000. 130000.  92000. 164500.]\n"
          ]
        }
      ],
      "source": [
        "# print the top few validation predictions\n",
        "print(val_predictions[:5])"
      ]
    },
    {
      "cell_type": "code",
      "execution_count": 11,
      "metadata": {
        "colab": {
          "base_uri": "https://localhost:8080/"
        },
        "id": "XQecYys5i1hw",
        "outputId": "c17110db-6194-4cff-d825-b81aaae640b7"
      },
      "outputs": [
        {
          "name": "stdout",
          "output_type": "stream",
          "text": [
            "258     231500\n",
            "267     179500\n",
            "288     122000\n",
            "649      84500\n",
            "1233    142000\n",
            "Name: SalePrice, dtype: int64\n"
          ]
        }
      ],
      "source": [
        "# print the top few actual prices from validation data\n",
        "print(val_y[:5])"
      ]
    },
    {
      "cell_type": "markdown",
      "metadata": {
        "id": "jbtWU6XXjCK6"
      },
      "source": [
        "# Step 4: Calculate the Mean Absolute Error in Validation Data"
      ]
    },
    {
      "cell_type": "code",
      "execution_count": 12,
      "metadata": {
        "colab": {
          "base_uri": "https://localhost:8080/"
        },
        "id": "VR1WajJ6i9gg",
        "outputId": "f5582b0f-7f83-41da-962b-382a40ffaa5e"
      },
      "outputs": [
        {
          "name": "stdout",
          "output_type": "stream",
          "text": [
            "29652.931506849316\n"
          ]
        }
      ],
      "source": [
        "from sklearn.metrics import mean_absolute_error\n",
        "val_mae = mean_absolute_error(val_y, val_predictions)\n",
        "\n",
        "print(val_mae)"
      ]
    }
  ],
  "metadata": {
    "colab": {
      "authorship_tag": "ABX9TyODIKQRwtSjifaE78hO0Pv3",
      "include_colab_link": true,
      "name": "4 Exercise: Model Validation.ipynb",
      "provenance": []
    },
    "kernelspec": {
      "display_name": "Python 3",
      "name": "python3"
    },
    "language_info": {
      "name": "python"
    }
  },
  "nbformat": 4,
  "nbformat_minor": 0
}
