{
  "cells": [
    {
      "cell_type": "markdown",
      "metadata": {
        "id": "LPFyRcMUiRgh"
      },
      "source": [
        "Random Forest\n",
        "\n",
        "cr: https://www.kaggle.com/dansbecker/random-forests"
      ]
    },
    {
      "cell_type": "markdown",
      "metadata": {
        "id": "GiZk6EGoiLFT"
      },
      "source": [
        "The random forest uses many trees, and it makes a prediction by averaging the predictions of each component tree. It generally has much better predictive accuracy than a single decision tree and it works well with default parameters. If you keep modeling, you can learn more models with even better performance, but many of those are sensitive to getting the right parameters."
      ]
    },
    {
      "cell_type": "code",
      "execution_count": 1,
      "metadata": {
        "id": "7oA4EZbgh7tN"
      },
      "outputs": [],
      "source": [
        "from sklearn.metrics import mean_absolute_error\n",
        "from sklearn.tree import DecisionTreeRegressor\n",
        "\n",
        "def get_mae(max_leaf_nodes, train_X, val_X, train_y, val_y):\n",
        "    model = DecisionTreeRegressor(max_leaf_nodes=max_leaf_nodes, random_state=0)\n",
        "    model.fit(train_X, train_y)\n",
        "    preds_val = model.predict(val_X)\n",
        "    mae = mean_absolute_error(val_y, preds_val)\n",
        "    return(mae)"
      ]
    },
    {
      "cell_type": "code",
      "execution_count": 2,
      "metadata": {
        "id": "nouBMGxIipVN"
      },
      "outputs": [],
      "source": [
        "# Data Loading Code Runs At This Point\n",
        "import pandas as pd\n",
        "    \n",
        "# Load data\n",
        "melbourne_file_path = 'melb_data.csv'\n",
        "melbourne_data = pd.read_csv(melbourne_file_path) \n",
        "# Filter rows with missing values\n",
        "filtered_melbourne_data = melbourne_data.dropna(axis=0)\n",
        "# Choose target and features\n",
        "y = filtered_melbourne_data.Price\n",
        "melbourne_features = ['Rooms', 'Bathroom', 'Landsize', 'BuildingArea', \n",
        "                        'YearBuilt', 'Lattitude', 'Longtitude']\n",
        "X = filtered_melbourne_data[melbourne_features]\n",
        "\n",
        "from sklearn.model_selection import train_test_split\n",
        "\n",
        "# split data into training and validation data, for both features and target\n",
        "train_X, val_X, train_y, val_y = train_test_split(X, y,random_state = 0)"
      ]
    },
    {
      "cell_type": "code",
      "execution_count": 3,
      "metadata": {
        "colab": {
          "base_uri": "https://localhost:8080/"
        },
        "id": "lBQAQ0Npi3Qg",
        "outputId": "f41b1626-98f2-4b32-e094-4e085dbf8f6c"
      },
      "outputs": [
        {
          "name": "stdout",
          "output_type": "stream",
          "text": [
            "191669.7536453626\n"
          ]
        }
      ],
      "source": [
        "from sklearn.ensemble import RandomForestRegressor\n",
        "from sklearn.metrics import mean_absolute_error\n",
        "\n",
        "forest_model = RandomForestRegressor(random_state=1)\n",
        "forest_model.fit(train_X, train_y)\n",
        "melb_preds = forest_model.predict(val_X)\n",
        "print(mean_absolute_error(val_y, melb_preds))"
      ]
    }
  ],
  "metadata": {
    "colab": {
      "authorship_tag": "ABX9TyOvb4aDOq/htE9cWIIycYvT",
      "include_colab_link": true,
      "name": "6 Random Forest.ipynb",
      "provenance": []
    },
    "kernelspec": {
      "display_name": "Python 3",
      "name": "python3"
    },
    "language_info": {
      "name": "python"
    }
  },
  "nbformat": 4,
  "nbformat_minor": 0
}
