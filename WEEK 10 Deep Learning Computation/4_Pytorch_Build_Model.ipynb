{
  "cells": [
    {
      "cell_type": "markdown",
      "metadata": {
        "id": "XFtygZ2G-_sm"
      },
      "source": [
        "#BUILD THE NEURAL NETWORK\n",
        "\n",
        "Neural networks comprise (*meliputi*) of layers/modules that perform operations on data. The torch.nn namespace provides all the building blocks you need to build your own neural network. Every module in PyTorch subclasses the nn.Module. A neural network is a module itself that consists of other modules (layers). This nested structure allows for building and managing complex architectures easily."
      ]
    },
    {
      "cell_type": "code",
      "execution_count": 1,
      "metadata": {
        "id": "YZhprcmj-14g"
      },
      "outputs": [],
      "source": [
        "import os\n",
        "import torch\n",
        "from torch import nn\n",
        "from torch.utils.data import DataLoader\n",
        "from torchvision import datasets, transforms"
      ]
    },
    {
      "cell_type": "markdown",
      "metadata": {
        "id": "QDbN4Tww_VOd"
      },
      "source": [
        "#Get Device for Training\n",
        "\n",
        "We want to be able to train our model on a hardware accelerator like the GPU, if it is available. Let’s check to see if torch.cuda is available, else we continue to use the CPU"
      ]
    },
    {
      "cell_type": "code",
      "execution_count": 2,
      "metadata": {
        "colab": {
          "base_uri": "https://localhost:8080/"
        },
        "id": "eEI2blIr_WxI",
        "outputId": "8048c0b3-b9ae-4d4b-a580-c0893e82a5eb"
      },
      "outputs": [
        {
          "name": "stdout",
          "output_type": "stream",
          "text": [
            "Using cuda device\n"
          ]
        }
      ],
      "source": [
        "device = 'cuda' if torch.cuda.is_available() else 'cpu'\n",
        "print(f'Using {device} device')"
      ]
    },
    {
      "cell_type": "markdown",
      "metadata": {
        "id": "FaRxiq7F_mwi"
      },
      "source": [
        "#Define the Class\n",
        "\n",
        "We define our neural network by subclassing nn.Module, and initialize the neural network layers in \\_\\_init__. Every nn.Module subclass implements the operations on input data in the forward method."
      ]
    },
    {
      "cell_type": "code",
      "execution_count": 3,
      "metadata": {
        "id": "3q4aW82t_6Do"
      },
      "outputs": [],
      "source": [
        "class NeuralNetwork(nn.Module):\n",
        "    def __init__(self):\n",
        "        super(NeuralNetwork, self).__init__()\n",
        "        self.flatten = nn.Flatten()\n",
        "        self.linear_relu_stack = nn.Sequential(\n",
        "            nn.Linear(28*28, 512),\n",
        "            nn.ReLU(),\n",
        "            nn.Linear(512, 512),\n",
        "            nn.ReLU(),\n",
        "            nn.Linear(512, 10),\n",
        "        )\n",
        "\n",
        "    def forward(self, x):\n",
        "        x = self.flatten(x)\n",
        "        logits = self.linear_relu_stack(x)\n",
        "        return logits"
      ]
    },
    {
      "cell_type": "markdown",
      "metadata": {
        "id": "ukO9nbEe_9uC"
      },
      "source": [
        "We create an instance of NeuralNetwork, and move it to the device, and print its structure."
      ]
    },
    {
      "cell_type": "code",
      "execution_count": 4,
      "metadata": {
        "colab": {
          "base_uri": "https://localhost:8080/"
        },
        "id": "JZ8cS5p4AAsV",
        "outputId": "bb71a02b-118d-46c9-c2ac-b6d4ba9df2cc"
      },
      "outputs": [
        {
          "name": "stdout",
          "output_type": "stream",
          "text": [
            "NeuralNetwork(\n",
            "  (flatten): Flatten(start_dim=1, end_dim=-1)\n",
            "  (linear_relu_stack): Sequential(\n",
            "    (0): Linear(in_features=784, out_features=512, bias=True)\n",
            "    (1): ReLU()\n",
            "    (2): Linear(in_features=512, out_features=512, bias=True)\n",
            "    (3): ReLU()\n",
            "    (4): Linear(in_features=512, out_features=10, bias=True)\n",
            "  )\n",
            ")\n"
          ]
        }
      ],
      "source": [
        "model = NeuralNetwork().to(device)\n",
        "print(model)"
      ]
    },
    {
      "cell_type": "markdown",
      "metadata": {
        "id": "qfvd-uHbAfwr"
      },
      "source": [
        "To use the model, we pass it the input data. This executes the model’s forward, along with some background operations. Do not call model.forward() directly!\n",
        "\n",
        "Calling the model on the input returns a 10-dimensional tensor with raw predicted values for each class. We get the prediction probabilities by passing it through an instance of the nn.Softmax module."
      ]
    },
    {
      "cell_type": "code",
      "execution_count": 5,
      "metadata": {
        "colab": {
          "base_uri": "https://localhost:8080/"
        },
        "id": "TJrQmW9zAi6C",
        "outputId": "281ded75-0c61-4dd6-80c8-5871c72ca155"
      },
      "outputs": [
        {
          "name": "stdout",
          "output_type": "stream",
          "text": [
            "Predicted class: tensor([5], device='cuda:0')\n"
          ]
        }
      ],
      "source": [
        "X = torch.rand(1, 28, 28, device=device)\n",
        "logits = model(X)\n",
        "pred_probab = nn.Softmax(dim=1)(logits)\n",
        "y_pred = pred_probab.argmax(1)\n",
        "print(f\"Predicted class: {y_pred}\")"
      ]
    },
    {
      "cell_type": "markdown",
      "metadata": {
        "id": "O7_U1aQlAlRC"
      },
      "source": [
        "#Model Layers\n",
        "\n",
        "Let’s break down the layers in the FashionMNIST model. To illustrate it, we will take a sample minibatch of 3 images of size 28x28 and see what happens to it as we pass it through the network."
      ]
    },
    {
      "cell_type": "code",
      "execution_count": 6,
      "metadata": {
        "colab": {
          "base_uri": "https://localhost:8080/"
        },
        "id": "oz00YAPeA33d",
        "outputId": "3dffc58d-9ec6-4991-d12d-5f9ab7817aae"
      },
      "outputs": [
        {
          "name": "stdout",
          "output_type": "stream",
          "text": [
            "torch.Size([3, 28, 28])\n"
          ]
        }
      ],
      "source": [
        "input_image = torch.rand(3,28,28)\n",
        "print(input_image.size())"
      ]
    },
    {
      "cell_type": "markdown",
      "metadata": {
        "id": "2MZ0b7flA9Vi"
      },
      "source": [
        "#nn.Flatten\n",
        "\n",
        "We initialize the nn.Flatten layer to convert each 2D 28x28 image into a contiguous (*berdampingan*) array of 784 pixel values ( the minibatch dimension (at dim=0) is maintained)."
      ]
    },
    {
      "cell_type": "code",
      "execution_count": 7,
      "metadata": {
        "colab": {
          "base_uri": "https://localhost:8080/"
        },
        "id": "_qYcvztGBCwa",
        "outputId": "ac847cbb-8c3c-42a3-d024-be31adc0442d"
      },
      "outputs": [
        {
          "name": "stdout",
          "output_type": "stream",
          "text": [
            "torch.Size([3, 784])\n"
          ]
        }
      ],
      "source": [
        "flatten = nn.Flatten()\n",
        "flat_image = flatten(input_image)\n",
        "print(flat_image.size())"
      ]
    },
    {
      "cell_type": "markdown",
      "metadata": {
        "id": "NWWPIEYhBFP8"
      },
      "source": [
        "#nn.Linear\n",
        "\n",
        "The linear layer is a module that applies a linear transformation on the input using its stored weights and biases."
      ]
    },
    {
      "cell_type": "code",
      "execution_count": 8,
      "metadata": {
        "colab": {
          "base_uri": "https://localhost:8080/"
        },
        "id": "6Tj0GPoNBMDB",
        "outputId": "baa64d54-abde-4cff-8b48-24052be55894"
      },
      "outputs": [
        {
          "name": "stdout",
          "output_type": "stream",
          "text": [
            "torch.Size([3, 20])\n"
          ]
        }
      ],
      "source": [
        "layer1 = nn.Linear(in_features=28*28, out_features=20)\n",
        "hidden1 = layer1(flat_image)\n",
        "print(hidden1.size())"
      ]
    },
    {
      "cell_type": "markdown",
      "metadata": {
        "id": "EoxQGea7BQKc"
      },
      "source": [
        "#nn.ReLU\n",
        "\n",
        "Non-linear activations are what create the complex mappings between the model’s inputs and outputs. They are applied after linear transformations to introduce nonlinearity, helping neural networks learn a wide variety of phenomena."
      ]
    },
    {
      "cell_type": "code",
      "execution_count": 9,
      "metadata": {
        "colab": {
          "base_uri": "https://localhost:8080/"
        },
        "id": "6hq03bXxBd4J",
        "outputId": "457c6803-ea5a-46a2-9fec-224957e038d6"
      },
      "outputs": [
        {
          "name": "stdout",
          "output_type": "stream",
          "text": [
            "Before ReLU: tensor([[-0.2811,  0.3467, -0.0308, -0.0173, -0.5731, -0.2356, -0.0445, -0.6779,\n",
            "          0.2514, -0.0177,  0.1619,  0.0618, -0.2688, -0.1989,  0.2750,  0.2829,\n",
            "         -0.2101, -0.2271, -0.0264, -0.4615],\n",
            "        [-0.1725,  0.1511,  0.0703,  0.3816, -0.6457, -0.3524, -0.1272, -0.2332,\n",
            "          0.2467, -0.1513,  0.2591,  0.3341, -0.2855, -0.2286,  0.5074, -0.1370,\n",
            "         -0.3176, -0.2279,  0.1765, -0.2105],\n",
            "        [-0.4628,  0.1198,  0.1838,  0.2343, -0.7568, -0.4922, -0.2142, -0.2998,\n",
            "          0.4057, -0.3200,  0.0677,  0.0609, -0.5708, -0.6184,  0.0207,  0.0376,\n",
            "         -0.4419, -0.3334, -0.0373, -0.1311]], grad_fn=<AddmmBackward0>)\n",
            "\n",
            "\n",
            "After ReLU: tensor([[0.0000, 0.3467, 0.0000, 0.0000, 0.0000, 0.0000, 0.0000, 0.0000, 0.2514,\n",
            "         0.0000, 0.1619, 0.0618, 0.0000, 0.0000, 0.2750, 0.2829, 0.0000, 0.0000,\n",
            "         0.0000, 0.0000],\n",
            "        [0.0000, 0.1511, 0.0703, 0.3816, 0.0000, 0.0000, 0.0000, 0.0000, 0.2467,\n",
            "         0.0000, 0.2591, 0.3341, 0.0000, 0.0000, 0.5074, 0.0000, 0.0000, 0.0000,\n",
            "         0.1765, 0.0000],\n",
            "        [0.0000, 0.1198, 0.1838, 0.2343, 0.0000, 0.0000, 0.0000, 0.0000, 0.4057,\n",
            "         0.0000, 0.0677, 0.0609, 0.0000, 0.0000, 0.0207, 0.0376, 0.0000, 0.0000,\n",
            "         0.0000, 0.0000]], grad_fn=<ReluBackward0>)\n"
          ]
        }
      ],
      "source": [
        "print(f\"Before ReLU: {hidden1}\\n\\n\")\n",
        "hidden1 = nn.ReLU()(hidden1)\n",
        "print(f\"After ReLU: {hidden1}\")"
      ]
    },
    {
      "cell_type": "markdown",
      "metadata": {
        "id": "4olYZaH-BiZE"
      },
      "source": [
        "#nn.Sequential\n",
        "\n",
        "nn.Sequential is an ordered container of modules. The data is passed through all the modules in the same order as defined. You can use sequential containers to put together a quick network like seq_modules."
      ]
    },
    {
      "cell_type": "code",
      "execution_count": 10,
      "metadata": {
        "id": "TYnstSoJBtmU"
      },
      "outputs": [],
      "source": [
        "seq_modules = nn.Sequential(\n",
        "    flatten,\n",
        "    layer1,\n",
        "    nn.ReLU(),\n",
        "    nn.Linear(20, 10)\n",
        ")\n",
        "input_image = torch.rand(3,28,28)\n",
        "logits = seq_modules(input_image)"
      ]
    },
    {
      "cell_type": "markdown",
      "metadata": {
        "id": "Y06OY4C0Bv_7"
      },
      "source": [
        "#nn.Softmax\n",
        "\n",
        "The last linear layer of the neural network returns logits - raw values in [-infty, infty] - which are passed to the nn.Softmax module. The logits are scaled to values [0, 1] representing the model’s predicted probabilities for each class. dim parameter indicates the dimension along which the values must sum to 1."
      ]
    },
    {
      "cell_type": "code",
      "execution_count": 11,
      "metadata": {
        "id": "jJoExLGSB4ad"
      },
      "outputs": [],
      "source": [
        "softmax = nn.Softmax(dim=1)\n",
        "pred_probab = softmax(logits)"
      ]
    },
    {
      "cell_type": "markdown",
      "metadata": {
        "id": "Uy2KlGLMB6qN"
      },
      "source": [
        "#Model Parameters\n",
        "\n",
        "Many layers inside a neural network are parameterized, i.e. have associated weights and biases that are optimized during training. Subclassing nn.Module automatically tracks all fields defined inside your model object, and makes all parameters accessible using your model’s parameters() or named_parameters() methods.\n",
        "\n",
        "In this example, we iterate over each parameter, and print its size and a preview of its values."
      ]
    },
    {
      "cell_type": "code",
      "execution_count": 12,
      "metadata": {
        "colab": {
          "base_uri": "https://localhost:8080/"
        },
        "id": "sdephpWOCbs6",
        "outputId": "41a4e0aa-865a-4199-9642-ea1d71ed6cc8"
      },
      "outputs": [
        {
          "name": "stdout",
          "output_type": "stream",
          "text": [
            "Model structure:  NeuralNetwork(\n",
            "  (flatten): Flatten(start_dim=1, end_dim=-1)\n",
            "  (linear_relu_stack): Sequential(\n",
            "    (0): Linear(in_features=784, out_features=512, bias=True)\n",
            "    (1): ReLU()\n",
            "    (2): Linear(in_features=512, out_features=512, bias=True)\n",
            "    (3): ReLU()\n",
            "    (4): Linear(in_features=512, out_features=10, bias=True)\n",
            "  )\n",
            ") \n",
            "\n",
            "\n",
            "Layer: linear_relu_stack.0.weight | Size: torch.Size([512, 784]) | Values : tensor([[ 0.0077, -0.0094, -0.0175,  ...,  0.0145,  0.0229, -0.0213],\n",
            "        [ 0.0326, -0.0041, -0.0209,  ...,  0.0281, -0.0128, -0.0128]],\n",
            "       device='cuda:0', grad_fn=<SliceBackward0>) \n",
            "\n",
            "Layer: linear_relu_stack.0.bias | Size: torch.Size([512]) | Values : tensor([ 0.0043, -0.0213], device='cuda:0', grad_fn=<SliceBackward0>) \n",
            "\n",
            "Layer: linear_relu_stack.2.weight | Size: torch.Size([512, 512]) | Values : tensor([[ 0.0150, -0.0229,  0.0415,  ..., -0.0399, -0.0229,  0.0315],\n",
            "        [ 0.0079, -0.0328, -0.0003,  ...,  0.0397,  0.0192, -0.0387]],\n",
            "       device='cuda:0', grad_fn=<SliceBackward0>) \n",
            "\n",
            "Layer: linear_relu_stack.2.bias | Size: torch.Size([512]) | Values : tensor([ 0.0056, -0.0102], device='cuda:0', grad_fn=<SliceBackward0>) \n",
            "\n",
            "Layer: linear_relu_stack.4.weight | Size: torch.Size([10, 512]) | Values : tensor([[-0.0407, -0.0190,  0.0154,  ...,  0.0339, -0.0117,  0.0096],\n",
            "        [-0.0198,  0.0430,  0.0186,  ...,  0.0164,  0.0054,  0.0015]],\n",
            "       device='cuda:0', grad_fn=<SliceBackward0>) \n",
            "\n",
            "Layer: linear_relu_stack.4.bias | Size: torch.Size([10]) | Values : tensor([-0.0248,  0.0258], device='cuda:0', grad_fn=<SliceBackward0>) \n",
            "\n"
          ]
        }
      ],
      "source": [
        "print(\"Model structure: \", model, \"\\n\\n\")\n",
        "\n",
        "for name, param in model.named_parameters():\n",
        "    print(f\"Layer: {name} | Size: {param.size()} | Values : {param[:2]} \\n\")"
      ]
    }
  ],
  "metadata": {
    "accelerator": "GPU",
    "colab": {
      "authorship_tag": "ABX9TyNaOvURc56TSqBgJuT4mfbF",
      "include_colab_link": true,
      "name": "4 Pytorch-Build Model.ipynb",
      "provenance": []
    },
    "kernelspec": {
      "display_name": "Python 3",
      "name": "python3"
    },
    "language_info": {
      "name": "python"
    }
  },
  "nbformat": 4,
  "nbformat_minor": 0
}
