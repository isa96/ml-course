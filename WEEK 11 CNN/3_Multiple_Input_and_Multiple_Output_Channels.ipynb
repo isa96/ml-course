{
  "cells": [
    {
      "cell_type": "markdown",
      "metadata": {
        "id": "Nr5v5W_-onkW"
      },
      "source": [
        "6.4. Multiple Input and Multiple Output Channels\n",
        "https://d2l.ai/chapter_convolutional-neural-networks/channels.html"
      ]
    },
    {
      "cell_type": "code",
      "execution_count": 2,
      "metadata": {
        "colab": {
          "base_uri": "https://localhost:8080/"
        },
        "id": "ypTxomrWo9Vg",
        "outputId": "e563543e-33a2-43fe-dac5-c1633d219683"
      },
      "outputs": [
        {
          "name": "stdout",
          "output_type": "stream",
          "text": [
            "Requirement already satisfied: d2l==0.17.2 in /usr/local/lib/python3.7/dist-packages (0.17.2)\n",
            "Requirement already satisfied: pandas==1.2.2 in /usr/local/lib/python3.7/dist-packages (from d2l==0.17.2) (1.2.2)\n",
            "Requirement already satisfied: numpy==1.18.5 in /usr/local/lib/python3.7/dist-packages (from d2l==0.17.2) (1.18.5)\n",
            "Requirement already satisfied: jupyter==1.0.0 in /usr/local/lib/python3.7/dist-packages (from d2l==0.17.2) (1.0.0)\n",
            "Requirement already satisfied: requests==2.25.1 in /usr/local/lib/python3.7/dist-packages (from d2l==0.17.2) (2.25.1)\n",
            "Requirement already satisfied: matplotlib==3.3.3 in /usr/local/lib/python3.7/dist-packages (from d2l==0.17.2) (3.3.3)\n",
            "Requirement already satisfied: ipykernel in /usr/local/lib/python3.7/dist-packages (from jupyter==1.0.0->d2l==0.17.2) (4.10.1)\n",
            "Requirement already satisfied: ipywidgets in /usr/local/lib/python3.7/dist-packages (from jupyter==1.0.0->d2l==0.17.2) (7.6.5)\n",
            "Requirement already satisfied: qtconsole in /usr/local/lib/python3.7/dist-packages (from jupyter==1.0.0->d2l==0.17.2) (5.2.2)\n",
            "Requirement already satisfied: notebook in /usr/local/lib/python3.7/dist-packages (from jupyter==1.0.0->d2l==0.17.2) (5.3.1)\n",
            "Requirement already satisfied: jupyter-console in /usr/local/lib/python3.7/dist-packages (from jupyter==1.0.0->d2l==0.17.2) (5.2.0)\n",
            "Requirement already satisfied: nbconvert in /usr/local/lib/python3.7/dist-packages (from jupyter==1.0.0->d2l==0.17.2) (5.6.1)\n",
            "Requirement already satisfied: cycler>=0.10 in /usr/local/lib/python3.7/dist-packages (from matplotlib==3.3.3->d2l==0.17.2) (0.11.0)\n",
            "Requirement already satisfied: kiwisolver>=1.0.1 in /usr/local/lib/python3.7/dist-packages (from matplotlib==3.3.3->d2l==0.17.2) (1.3.2)\n",
            "Requirement already satisfied: pillow>=6.2.0 in /usr/local/lib/python3.7/dist-packages (from matplotlib==3.3.3->d2l==0.17.2) (7.1.2)\n",
            "Requirement already satisfied: pyparsing!=2.0.4,!=2.1.2,!=2.1.6,>=2.0.3 in /usr/local/lib/python3.7/dist-packages (from matplotlib==3.3.3->d2l==0.17.2) (3.0.6)\n",
            "Requirement already satisfied: python-dateutil>=2.1 in /usr/local/lib/python3.7/dist-packages (from matplotlib==3.3.3->d2l==0.17.2) (2.8.2)\n",
            "Requirement already satisfied: pytz>=2017.3 in /usr/local/lib/python3.7/dist-packages (from pandas==1.2.2->d2l==0.17.2) (2018.9)\n",
            "Requirement already satisfied: certifi>=2017.4.17 in /usr/local/lib/python3.7/dist-packages (from requests==2.25.1->d2l==0.17.2) (2021.10.8)\n",
            "Requirement already satisfied: chardet<5,>=3.0.2 in /usr/local/lib/python3.7/dist-packages (from requests==2.25.1->d2l==0.17.2) (3.0.4)\n",
            "Requirement already satisfied: idna<3,>=2.5 in /usr/local/lib/python3.7/dist-packages (from requests==2.25.1->d2l==0.17.2) (2.10)\n",
            "Requirement already satisfied: urllib3<1.27,>=1.21.1 in /usr/local/lib/python3.7/dist-packages (from requests==2.25.1->d2l==0.17.2) (1.24.3)\n",
            "Requirement already satisfied: six>=1.5 in /usr/local/lib/python3.7/dist-packages (from python-dateutil>=2.1->matplotlib==3.3.3->d2l==0.17.2) (1.15.0)\n",
            "Requirement already satisfied: tornado>=4.0 in /usr/local/lib/python3.7/dist-packages (from ipykernel->jupyter==1.0.0->d2l==0.17.2) (5.1.1)\n",
            "Requirement already satisfied: traitlets>=4.1.0 in /usr/local/lib/python3.7/dist-packages (from ipykernel->jupyter==1.0.0->d2l==0.17.2) (5.1.1)\n",
            "Requirement already satisfied: ipython>=4.0.0 in /usr/local/lib/python3.7/dist-packages (from ipykernel->jupyter==1.0.0->d2l==0.17.2) (5.5.0)\n",
            "Requirement already satisfied: jupyter-client in /usr/local/lib/python3.7/dist-packages (from ipykernel->jupyter==1.0.0->d2l==0.17.2) (5.3.5)\n",
            "Requirement already satisfied: pygments in /usr/local/lib/python3.7/dist-packages (from ipython>=4.0.0->ipykernel->jupyter==1.0.0->d2l==0.17.2) (2.6.1)\n",
            "Requirement already satisfied: pexpect in /usr/local/lib/python3.7/dist-packages (from ipython>=4.0.0->ipykernel->jupyter==1.0.0->d2l==0.17.2) (4.8.0)\n",
            "Requirement already satisfied: decorator in /usr/local/lib/python3.7/dist-packages (from ipython>=4.0.0->ipykernel->jupyter==1.0.0->d2l==0.17.2) (4.4.2)\n",
            "Requirement already satisfied: prompt-toolkit<2.0.0,>=1.0.4 in /usr/local/lib/python3.7/dist-packages (from ipython>=4.0.0->ipykernel->jupyter==1.0.0->d2l==0.17.2) (1.0.18)\n",
            "Requirement already satisfied: simplegeneric>0.8 in /usr/local/lib/python3.7/dist-packages (from ipython>=4.0.0->ipykernel->jupyter==1.0.0->d2l==0.17.2) (0.8.1)\n",
            "Requirement already satisfied: pickleshare in /usr/local/lib/python3.7/dist-packages (from ipython>=4.0.0->ipykernel->jupyter==1.0.0->d2l==0.17.2) (0.7.5)\n",
            "Requirement already satisfied: setuptools>=18.5 in /usr/local/lib/python3.7/dist-packages (from ipython>=4.0.0->ipykernel->jupyter==1.0.0->d2l==0.17.2) (57.4.0)\n",
            "Requirement already satisfied: wcwidth in /usr/local/lib/python3.7/dist-packages (from prompt-toolkit<2.0.0,>=1.0.4->ipython>=4.0.0->ipykernel->jupyter==1.0.0->d2l==0.17.2) (0.2.5)\n",
            "Requirement already satisfied: widgetsnbextension~=3.5.0 in /usr/local/lib/python3.7/dist-packages (from ipywidgets->jupyter==1.0.0->d2l==0.17.2) (3.5.2)\n",
            "Requirement already satisfied: ipython-genutils~=0.2.0 in /usr/local/lib/python3.7/dist-packages (from ipywidgets->jupyter==1.0.0->d2l==0.17.2) (0.2.0)\n",
            "Requirement already satisfied: nbformat>=4.2.0 in /usr/local/lib/python3.7/dist-packages (from ipywidgets->jupyter==1.0.0->d2l==0.17.2) (5.1.3)\n",
            "Requirement already satisfied: jupyterlab-widgets>=1.0.0 in /usr/local/lib/python3.7/dist-packages (from ipywidgets->jupyter==1.0.0->d2l==0.17.2) (1.0.2)\n",
            "Requirement already satisfied: jupyter-core in /usr/local/lib/python3.7/dist-packages (from nbformat>=4.2.0->ipywidgets->jupyter==1.0.0->d2l==0.17.2) (4.9.1)\n",
            "Requirement already satisfied: jsonschema!=2.5.0,>=2.4 in /usr/local/lib/python3.7/dist-packages (from nbformat>=4.2.0->ipywidgets->jupyter==1.0.0->d2l==0.17.2) (4.3.3)\n",
            "Requirement already satisfied: importlib-resources>=1.4.0 in /usr/local/lib/python3.7/dist-packages (from jsonschema!=2.5.0,>=2.4->nbformat>=4.2.0->ipywidgets->jupyter==1.0.0->d2l==0.17.2) (5.4.0)\n",
            "Requirement already satisfied: importlib-metadata in /usr/local/lib/python3.7/dist-packages (from jsonschema!=2.5.0,>=2.4->nbformat>=4.2.0->ipywidgets->jupyter==1.0.0->d2l==0.17.2) (4.10.0)\n",
            "Requirement already satisfied: pyrsistent!=0.17.0,!=0.17.1,!=0.17.2,>=0.14.0 in /usr/local/lib/python3.7/dist-packages (from jsonschema!=2.5.0,>=2.4->nbformat>=4.2.0->ipywidgets->jupyter==1.0.0->d2l==0.17.2) (0.18.0)\n",
            "Requirement already satisfied: attrs>=17.4.0 in /usr/local/lib/python3.7/dist-packages (from jsonschema!=2.5.0,>=2.4->nbformat>=4.2.0->ipywidgets->jupyter==1.0.0->d2l==0.17.2) (21.4.0)\n",
            "Requirement already satisfied: typing-extensions in /usr/local/lib/python3.7/dist-packages (from jsonschema!=2.5.0,>=2.4->nbformat>=4.2.0->ipywidgets->jupyter==1.0.0->d2l==0.17.2) (3.10.0.2)\n",
            "Requirement already satisfied: zipp>=3.1.0 in /usr/local/lib/python3.7/dist-packages (from importlib-resources>=1.4.0->jsonschema!=2.5.0,>=2.4->nbformat>=4.2.0->ipywidgets->jupyter==1.0.0->d2l==0.17.2) (3.7.0)\n",
            "Requirement already satisfied: jinja2 in /usr/local/lib/python3.7/dist-packages (from notebook->jupyter==1.0.0->d2l==0.17.2) (2.11.3)\n",
            "Requirement already satisfied: terminado>=0.8.1 in /usr/local/lib/python3.7/dist-packages (from notebook->jupyter==1.0.0->d2l==0.17.2) (0.12.1)\n",
            "Requirement already satisfied: Send2Trash in /usr/local/lib/python3.7/dist-packages (from notebook->jupyter==1.0.0->d2l==0.17.2) (1.8.0)\n",
            "Requirement already satisfied: pyzmq>=13 in /usr/local/lib/python3.7/dist-packages (from jupyter-client->ipykernel->jupyter==1.0.0->d2l==0.17.2) (22.3.0)\n",
            "Requirement already satisfied: ptyprocess in /usr/local/lib/python3.7/dist-packages (from terminado>=0.8.1->notebook->jupyter==1.0.0->d2l==0.17.2) (0.7.0)\n",
            "Requirement already satisfied: MarkupSafe>=0.23 in /usr/local/lib/python3.7/dist-packages (from jinja2->notebook->jupyter==1.0.0->d2l==0.17.2) (2.0.1)\n",
            "Requirement already satisfied: testpath in /usr/local/lib/python3.7/dist-packages (from nbconvert->jupyter==1.0.0->d2l==0.17.2) (0.5.0)\n",
            "Requirement already satisfied: bleach in /usr/local/lib/python3.7/dist-packages (from nbconvert->jupyter==1.0.0->d2l==0.17.2) (4.1.0)\n",
            "Requirement already satisfied: entrypoints>=0.2.2 in /usr/local/lib/python3.7/dist-packages (from nbconvert->jupyter==1.0.0->d2l==0.17.2) (0.3)\n",
            "Requirement already satisfied: defusedxml in /usr/local/lib/python3.7/dist-packages (from nbconvert->jupyter==1.0.0->d2l==0.17.2) (0.7.1)\n",
            "Requirement already satisfied: mistune<2,>=0.8.1 in /usr/local/lib/python3.7/dist-packages (from nbconvert->jupyter==1.0.0->d2l==0.17.2) (0.8.4)\n",
            "Requirement already satisfied: pandocfilters>=1.4.1 in /usr/local/lib/python3.7/dist-packages (from nbconvert->jupyter==1.0.0->d2l==0.17.2) (1.5.0)\n",
            "Requirement already satisfied: packaging in /usr/local/lib/python3.7/dist-packages (from bleach->nbconvert->jupyter==1.0.0->d2l==0.17.2) (21.3)\n",
            "Requirement already satisfied: webencodings in /usr/local/lib/python3.7/dist-packages (from bleach->nbconvert->jupyter==1.0.0->d2l==0.17.2) (0.5.1)\n",
            "Requirement already satisfied: qtpy in /usr/local/lib/python3.7/dist-packages (from qtconsole->jupyter==1.0.0->d2l==0.17.2) (2.0.0)\n"
          ]
        }
      ],
      "source": [
        "!pip install d2l==0.17.2"
      ]
    },
    {
      "cell_type": "markdown",
      "metadata": {
        "id": "NhwFuwv5pXoE"
      },
      "source": [
        "Implement cross-correlation operations with multiple input channels ourselves. Notice that all we are doing is performing one cross-correlation operation per channel and then adding up the results."
      ]
    },
    {
      "cell_type": "markdown",
      "metadata": {
        "id": "CUoIt3lfpnZH"
      },
      "source": [
        "![image.png](data:image/png;base64,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)"
      ]
    },
    {
      "cell_type": "code",
      "execution_count": 3,
      "metadata": {
        "id": "KC7lv9cDonGX"
      },
      "outputs": [],
      "source": [
        "import tensorflow as tf\n",
        "from d2l import tensorflow as d2l\n",
        "\n",
        "\n",
        "def corr2d_multi_in(X, K):\n",
        "    # First, iterate through the 0th dimension (channel dimension) of `X` and\n",
        "    # `K`. Then, add them together\n",
        "    return tf.reduce_sum([d2l.corr2d(x, k) for x, k in zip(X, K)], axis=0)"
      ]
    },
    {
      "cell_type": "markdown",
      "metadata": {
        "id": "xFDKUtoUpdtC"
      },
      "source": [
        "We can construct the input tensor X and the kernel tensor K corresponding to the values in Fig. 6.4.1 to validate the output of the cross-correlation operation."
      ]
    },
    {
      "cell_type": "code",
      "execution_count": 4,
      "metadata": {
        "colab": {
          "base_uri": "https://localhost:8080/"
        },
        "id": "F9JPsNampqSV",
        "outputId": "b5b9726f-0bce-4eec-df76-cbd6d37f4f25"
      },
      "outputs": [
        {
          "data": {
            "text/plain": [
              "<tf.Tensor: shape=(2, 2), dtype=float32, numpy=\n",
              "array([[ 56.,  72.],\n",
              "       [104., 120.]], dtype=float32)>"
            ]
          },
          "execution_count": 4,
          "metadata": {},
          "output_type": "execute_result"
        }
      ],
      "source": [
        "X = tf.constant([[[0.0, 1.0, 2.0], [3.0, 4.0, 5.0], [6.0, 7.0, 8.0]],\n",
        "               [[1.0, 2.0, 3.0], [4.0, 5.0, 6.0], [7.0, 8.0, 9.0]]])\n",
        "K = tf.constant([[[0.0, 1.0], [2.0, 3.0]], [[1.0, 2.0], [3.0, 4.0]]])\n",
        "\n",
        "corr2d_multi_in(X, K)"
      ]
    },
    {
      "cell_type": "markdown",
      "metadata": {
        "id": "Ot6TVTcEptC2"
      },
      "source": [
        "##Multiple Output Channels\n",
        "\n",
        "We implement a cross-correlation function to calculate the output of multiple channels as shown below."
      ]
    },
    {
      "cell_type": "code",
      "execution_count": 5,
      "metadata": {
        "id": "2qt9NIZNpxUH"
      },
      "outputs": [],
      "source": [
        "def corr2d_multi_in_out(X, K):\n",
        "    # Iterate through the 0th dimension of `K`, and each time, perform\n",
        "    # cross-correlation operations with input `X`. All of the results are\n",
        "    # stacked together\n",
        "    return tf.stack([corr2d_multi_in(X, k) for k in K], 0)"
      ]
    },
    {
      "cell_type": "markdown",
      "metadata": {
        "id": "tESRO2tUpzm9"
      },
      "source": [
        "We construct a convolution kernel with 3 output channels by concatenating the kernel tensor K with K+1 (plus one for each element in K) and K+2."
      ]
    },
    {
      "cell_type": "code",
      "execution_count": 6,
      "metadata": {
        "colab": {
          "base_uri": "https://localhost:8080/"
        },
        "id": "0cNeAT0Kp7mf",
        "outputId": "846eabb7-2915-4d0d-eefb-48272834b368"
      },
      "outputs": [
        {
          "data": {
            "text/plain": [
              "TensorShape([3, 2, 2, 2])"
            ]
          },
          "execution_count": 6,
          "metadata": {},
          "output_type": "execute_result"
        }
      ],
      "source": [
        "K = tf.stack((K, K + 1, K + 2), 0)\n",
        "K.shape"
      ]
    },
    {
      "cell_type": "markdown",
      "metadata": {
        "id": "C5kk5no2qCul"
      },
      "source": [
        "Below, we perform cross-correlation operations on the input tensor X with the kernel tensor K. Now the output contains 3 channels. "
      ]
    },
    {
      "cell_type": "code",
      "execution_count": 7,
      "metadata": {
        "colab": {
          "base_uri": "https://localhost:8080/"
        },
        "id": "RbtiDHPKqDhU",
        "outputId": "12ee2aa9-c8f8-40bd-cf16-a83b09fa88a0"
      },
      "outputs": [
        {
          "data": {
            "text/plain": [
              "<tf.Tensor: shape=(3, 2, 2), dtype=float32, numpy=\n",
              "array([[[ 56.,  72.],\n",
              "        [104., 120.]],\n",
              "\n",
              "       [[ 76., 100.],\n",
              "        [148., 172.]],\n",
              "\n",
              "       [[ 96., 128.],\n",
              "        [192., 224.]]], dtype=float32)>"
            ]
          },
          "execution_count": 7,
          "metadata": {},
          "output_type": "execute_result"
        }
      ],
      "source": [
        "corr2d_multi_in_out(X, K)"
      ]
    },
    {
      "cell_type": "markdown",
      "metadata": {
        "id": "AjxGFlBhqGAr"
      },
      "source": [
        "##1×1  Convolutional Layer\n",
        "\n",
        "\n",
        "Let us check whether this works in practice: we implement a  1×1  convolution using a fully-connected layer. The only thing is that we need to make some adjustments to the data shape before and after the matrix multiplication."
      ]
    },
    {
      "cell_type": "code",
      "execution_count": 8,
      "metadata": {
        "id": "Ywa39h0IqODA"
      },
      "outputs": [],
      "source": [
        "def corr2d_multi_in_out_1x1(X, K):\n",
        "    c_i, h, w = X.shape\n",
        "    c_o = K.shape[0]\n",
        "    X = tf.reshape(X, (c_i, h * w))\n",
        "    K = tf.reshape(K, (c_o, c_i))\n",
        "    # Matrix multiplication in the fully-connected layer\n",
        "    Y = tf.matmul(K, X)\n",
        "    return tf.reshape(Y, (c_o, h, w))"
      ]
    },
    {
      "cell_type": "markdown",
      "metadata": {
        "id": "Vxl0Hk5TqSx0"
      },
      "source": [
        "When performing  1×1  convolution, the above function is equivalent to the previously implemented cross-correlation function corr2d_multi_in_out. Let us check this with some sample data."
      ]
    },
    {
      "cell_type": "code",
      "execution_count": 9,
      "metadata": {
        "id": "rWfmyJ2VqTti"
      },
      "outputs": [],
      "source": [
        "X = tf.random.normal((3, 3, 3), 0, 1)\n",
        "K = tf.random.normal((2, 3, 1, 1), 0, 1)\n",
        "\n",
        "Y1 = corr2d_multi_in_out_1x1(X, K)\n",
        "Y2 = corr2d_multi_in_out(X, K)\n",
        "assert float(tf.reduce_sum(tf.abs(Y1 - Y2))) < 1e-6"
      ]
    },
    {
      "cell_type": "markdown",
      "metadata": {
        "id": "GEr3Q1yXqXlL"
      },
      "source": [
        "##Summary\n",
        "* Multiple channels can be used to extend the model parameters of the convolutional layer.\n",
        "\n",
        "* The  1×1  convolutional layer is equivalent to the fully-connected layer, when applied on a per pixel basis.\n",
        "\n",
        "* The  1×1  convolutional layer is typically used to adjust the number of channels between network layers and to control model complexity."
      ]
    }
  ],
  "metadata": {
    "colab": {
      "authorship_tag": "ABX9TyPHv4fHK/pLDqT+KEAiVvvo",
      "include_colab_link": true,
      "name": "3 Multiple Input and Multiple Output Channels.ipynb",
      "provenance": []
    },
    "kernelspec": {
      "display_name": "Python 3",
      "name": "python3"
    },
    "language_info": {
      "name": "python"
    }
  },
  "nbformat": 4,
  "nbformat_minor": 0
}
