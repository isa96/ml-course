{
  "cells": [
    {
      "cell_type": "markdown",
      "metadata": {
        "id": "7LJvMNWTxiY5"
      },
      "source": [
        "This section introduces pooling layers, which serve the dual purposes of mitigating the sensitivity of convolutional layers to location and of spatially downsampling representations."
      ]
    },
    {
      "cell_type": "markdown",
      "metadata": {
        "id": "sjv3MCRWyjsa"
      },
      "source": [
        "##Maximum Pooling and Average Pooling\n",
        "![image.png](data:image/png;base64,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)\n",
        "Maximum pooling with a pooling window shape of  2×2 . The shaded portions are the first output element as well as the input tensor elements used for the output computation:  max(0,1,3,4)=4.\n",
        "\n",
        "In the code below, we implement the forward propagation of the pooling layer in the pool2d function. This function is similar to the corr2d function. However, here we have no kernel, computing the output as either the maximum or the average of each region in the input."
      ]
    },
    {
      "cell_type": "code",
      "execution_count": 2,
      "metadata": {
        "id": "3Smfz2u8xUV9"
      },
      "outputs": [],
      "source": [
        "import tensorflow as tf\n",
        "\n",
        "def pool2d(X, pool_size, mode='max'):\n",
        "    p_h, p_w = pool_size\n",
        "    Y = tf.Variable(tf.zeros((X.shape[0] - p_h + 1, X.shape[1] - p_w +1)))\n",
        "    for i in range(Y.shape[0]):\n",
        "        for j in range(Y.shape[1]):\n",
        "            if mode == 'max':\n",
        "                Y[i, j].assign(tf.reduce_max(X[i: i + p_h, j: j + p_w]))\n",
        "            elif mode =='avg':\n",
        "                Y[i, j].assign(tf.reduce_mean(X[i: i + p_h, j: j + p_w]))\n",
        "    return Y"
      ]
    },
    {
      "cell_type": "markdown",
      "metadata": {
        "id": "KCXT4PCGys6_"
      },
      "source": [
        "We can construct the input tensor X in above to validate the output of the two-dimensional maximum pooling layer."
      ]
    },
    {
      "cell_type": "code",
      "execution_count": 3,
      "metadata": {
        "colab": {
          "base_uri": "https://localhost:8080/"
        },
        "id": "QuoY1M33zYje",
        "outputId": "185ae363-9583-4ddd-a20c-94db6b0652ef"
      },
      "outputs": [
        {
          "data": {
            "text/plain": [
              "<tf.Variable 'Variable:0' shape=(2, 2) dtype=float32, numpy=\n",
              "array([[4., 5.],\n",
              "       [7., 8.]], dtype=float32)>"
            ]
          },
          "execution_count": 3,
          "metadata": {},
          "output_type": "execute_result"
        }
      ],
      "source": [
        "X = tf.constant([[0.0, 1.0, 2.0], [3.0, 4.0, 5.0], [6.0, 7.0, 8.0]])\n",
        "pool2d(X, (2, 2))"
      ]
    },
    {
      "cell_type": "markdown",
      "metadata": {
        "id": "hyDtF5gpzesc"
      },
      "source": [
        "Also, we experiment with the average pooling layer."
      ]
    },
    {
      "cell_type": "code",
      "execution_count": 4,
      "metadata": {
        "colab": {
          "base_uri": "https://localhost:8080/"
        },
        "id": "mQ0mCV2bzf4F",
        "outputId": "75caf059-9a4d-4222-af06-8ef75e487ce4"
      },
      "outputs": [
        {
          "data": {
            "text/plain": [
              "<tf.Variable 'Variable:0' shape=(2, 2) dtype=float32, numpy=\n",
              "array([[2., 3.],\n",
              "       [5., 6.]], dtype=float32)>"
            ]
          },
          "execution_count": 4,
          "metadata": {},
          "output_type": "execute_result"
        }
      ],
      "source": [
        "pool2d(X, (2, 2), 'avg')"
      ]
    },
    {
      "cell_type": "markdown",
      "metadata": {
        "id": "g2lwTlrBzh5B"
      },
      "source": [
        "##Padding and Stride\n",
        "\n",
        "It is important to note that tensorflow prefers and is optimized for channels-last input."
      ]
    },
    {
      "cell_type": "code",
      "execution_count": 5,
      "metadata": {
        "colab": {
          "base_uri": "https://localhost:8080/"
        },
        "id": "LVMxZWfW0JGj",
        "outputId": "ad6a0de3-235b-4868-af61-738005f874e6"
      },
      "outputs": [
        {
          "data": {
            "text/plain": [
              "<tf.Tensor: shape=(1, 4, 4, 1), dtype=float32, numpy=\n",
              "array([[[[ 0.],\n",
              "         [ 1.],\n",
              "         [ 2.],\n",
              "         [ 3.]],\n",
              "\n",
              "        [[ 4.],\n",
              "         [ 5.],\n",
              "         [ 6.],\n",
              "         [ 7.]],\n",
              "\n",
              "        [[ 8.],\n",
              "         [ 9.],\n",
              "         [10.],\n",
              "         [11.]],\n",
              "\n",
              "        [[12.],\n",
              "         [13.],\n",
              "         [14.],\n",
              "         [15.]]]], dtype=float32)>"
            ]
          },
          "execution_count": 5,
          "metadata": {},
          "output_type": "execute_result"
        }
      ],
      "source": [
        "X = tf.reshape(tf.range(16, dtype=tf.float32), (1, 4, 4, 1))\n",
        "X"
      ]
    },
    {
      "cell_type": "markdown",
      "metadata": {
        "id": "nOdFt2Fh0OOw"
      },
      "source": [
        "Below, we use a pooling window of shape (3, 3), so we get a stride shape of (3, 3) by default."
      ]
    },
    {
      "cell_type": "code",
      "execution_count": 6,
      "metadata": {
        "colab": {
          "base_uri": "https://localhost:8080/"
        },
        "id": "97Rpomcx0RgK",
        "outputId": "8be29f11-315a-4015-d581-f34f83d60605"
      },
      "outputs": [
        {
          "data": {
            "text/plain": [
              "<tf.Tensor: shape=(1, 1, 1, 1), dtype=float32, numpy=array([[[[10.]]]], dtype=float32)>"
            ]
          },
          "execution_count": 6,
          "metadata": {},
          "output_type": "execute_result"
        }
      ],
      "source": [
        "pool2d = tf.keras.layers.MaxPool2D(pool_size=[3, 3])\n",
        "pool2d(X)"
      ]
    },
    {
      "cell_type": "markdown",
      "metadata": {
        "id": "MaHCaJ0v0TZm"
      },
      "source": [
        "The stride and padding can be manually specified."
      ]
    },
    {
      "cell_type": "code",
      "execution_count": 7,
      "metadata": {
        "colab": {
          "base_uri": "https://localhost:8080/"
        },
        "id": "V2AzHW0y0Ubk",
        "outputId": "c3cb8502-0e76-4750-91ab-bdb4af099c9a"
      },
      "outputs": [
        {
          "data": {
            "text/plain": [
              "<tf.Tensor: shape=(1, 2, 2, 1), dtype=float32, numpy=\n",
              "array([[[[ 5.],\n",
              "         [ 7.]],\n",
              "\n",
              "        [[13.],\n",
              "         [15.]]]], dtype=float32)>"
            ]
          },
          "execution_count": 7,
          "metadata": {},
          "output_type": "execute_result"
        }
      ],
      "source": [
        "paddings = tf.constant([[0, 0], [1,0], [1,0], [0,0]])\n",
        "X_padded = tf.pad(X, paddings, \"CONSTANT\")\n",
        "pool2d = tf.keras.layers.MaxPool2D(pool_size=[3, 3], padding='valid',\n",
        "                                   strides=2)\n",
        "pool2d(X_padded)"
      ]
    },
    {
      "cell_type": "markdown",
      "metadata": {
        "id": "6lV_XllJ0XFY"
      },
      "source": [
        "Of course, we can specify an arbitrary rectangular pooling window and specify the padding and stride for height and width, respectively."
      ]
    },
    {
      "cell_type": "markdown",
      "metadata": {
        "id": "059u8Lw30bsQ"
      },
      "source": [
        "##Multiple Channels\n",
        "Below, we will concatenate tensors X and X + 1 on the channel dimension to construct an input with 2 channels.\n",
        "\n",
        "Note that this will require a concatenation along the last dimension for TensorFlow due to the channels-last syntax."
      ]
    },
    {
      "cell_type": "code",
      "execution_count": 8,
      "metadata": {
        "id": "55M1j_GK05hm"
      },
      "outputs": [],
      "source": [
        "X = tf.concat([X, X + 1], 3)  # Concatenate along `dim=3` due to channels-last syntax"
      ]
    },
    {
      "cell_type": "markdown",
      "metadata": {
        "id": "ZdU4r6Ie08nP"
      },
      "source": [
        "As we can see, the number of output channels is still 2 after pooling."
      ]
    },
    {
      "cell_type": "code",
      "execution_count": 9,
      "metadata": {
        "colab": {
          "base_uri": "https://localhost:8080/"
        },
        "id": "qWPSawGh0-Q_",
        "outputId": "06183776-7114-4f7c-d94a-f797e1b97f5d"
      },
      "outputs": [
        {
          "data": {
            "text/plain": [
              "<tf.Tensor: shape=(1, 2, 2, 2), dtype=float32, numpy=\n",
              "array([[[[ 5.,  6.],\n",
              "         [ 7.,  8.]],\n",
              "\n",
              "        [[13., 14.],\n",
              "         [15., 16.]]]], dtype=float32)>"
            ]
          },
          "execution_count": 9,
          "metadata": {},
          "output_type": "execute_result"
        }
      ],
      "source": [
        "paddings = tf.constant([[0, 0], [1,0], [1,0], [0,0]])\n",
        "X_padded = tf.pad(X, paddings, \"CONSTANT\")\n",
        "pool2d = tf.keras.layers.MaxPool2D(pool_size=[3, 3], padding='valid',\n",
        "                                   strides=2)\n",
        "pool2d(X_padded)"
      ]
    },
    {
      "cell_type": "markdown",
      "metadata": {
        "id": "cZYEOhh91FSI"
      },
      "source": [
        "##Summary\n",
        "* Taking the input elements in the pooling window, the maximum pooling operation assigns the maximum value as the output and the average pooling operation assigns the average value as the output.\n",
        "\n",
        "* One of the major benefits of a pooling layer is to alleviate the excessive sensitivity of the convolutional layer to location.\n",
        "\n",
        "* We can specify the padding and stride for the pooling layer.\n",
        "\n",
        "* Maximum pooling, combined with a stride larger than 1 can be used to reduce the spatial dimensions (e.g., width and height).\n",
        "\n",
        "* The pooling layer’s number of output channels is the same as the number of input channels."
      ]
    }
  ],
  "metadata": {
    "colab": {
      "authorship_tag": "ABX9TyPiqGQhmM1C10zmANKQBsnF",
      "include_colab_link": true,
      "name": "4 Pooling.ipynb",
      "provenance": []
    },
    "kernelspec": {
      "display_name": "Python 3",
      "name": "python3"
    },
    "language_info": {
      "name": "python"
    }
  },
  "nbformat": 4,
  "nbformat_minor": 0
}
