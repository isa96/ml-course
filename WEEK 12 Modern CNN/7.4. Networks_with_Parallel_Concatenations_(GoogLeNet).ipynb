{
  "cells": [
    {
      "cell_type": "code",
      "execution_count": null,
      "metadata": {
        "colab": {
          "base_uri": "https://localhost:8080/",
          "height": 1000
        },
        "id": "4CDPavoRmdvN",
        "outputId": "ed3ea292-456b-4fbc-defb-dd3d1b96195f"
      },
      "outputs": [
        {
          "name": "stdout",
          "output_type": "stream",
          "text": [
            "Collecting d2l==0.17.2\n",
            "  Downloading d2l-0.17.2-py3-none-any.whl (82 kB)\n",
            "\u001b[K     |████████████████████████████████| 82 kB 631 kB/s \n",
            "\u001b[?25hCollecting matplotlib==3.3.3\n",
            "  Downloading matplotlib-3.3.3-cp37-cp37m-manylinux1_x86_64.whl (11.6 MB)\n",
            "\u001b[K     |████████████████████████████████| 11.6 MB 11.1 MB/s \n",
            "\u001b[?25hCollecting pandas==1.2.2\n",
            "  Downloading pandas-1.2.2-cp37-cp37m-manylinux1_x86_64.whl (9.9 MB)\n",
            "\u001b[K     |████████████████████████████████| 9.9 MB 16.8 MB/s \n",
            "\u001b[?25hRequirement already satisfied: jupyter==1.0.0 in /usr/local/lib/python3.7/dist-packages (from d2l==0.17.2) (1.0.0)\n",
            "Collecting numpy==1.18.5\n",
            "  Downloading numpy-1.18.5-cp37-cp37m-manylinux1_x86_64.whl (20.1 MB)\n",
            "\u001b[K     |████████████████████████████████| 20.1 MB 1.5 MB/s \n",
            "\u001b[?25hCollecting requests==2.25.1\n",
            "  Downloading requests-2.25.1-py2.py3-none-any.whl (61 kB)\n",
            "\u001b[K     |████████████████████████████████| 61 kB 7.3 MB/s \n",
            "\u001b[?25hRequirement already satisfied: qtconsole in /usr/local/lib/python3.7/dist-packages (from jupyter==1.0.0->d2l==0.17.2) (5.2.2)\n",
            "Requirement already satisfied: ipykernel in /usr/local/lib/python3.7/dist-packages (from jupyter==1.0.0->d2l==0.17.2) (4.10.1)\n",
            "Requirement already satisfied: jupyter-console in /usr/local/lib/python3.7/dist-packages (from jupyter==1.0.0->d2l==0.17.2) (5.2.0)\n",
            "Requirement already satisfied: notebook in /usr/local/lib/python3.7/dist-packages (from jupyter==1.0.0->d2l==0.17.2) (5.3.1)\n",
            "Requirement already satisfied: ipywidgets in /usr/local/lib/python3.7/dist-packages (from jupyter==1.0.0->d2l==0.17.2) (7.6.5)\n",
            "Requirement already satisfied: nbconvert in /usr/local/lib/python3.7/dist-packages (from jupyter==1.0.0->d2l==0.17.2) (5.6.1)\n",
            "Requirement already satisfied: pillow>=6.2.0 in /usr/local/lib/python3.7/dist-packages (from matplotlib==3.3.3->d2l==0.17.2) (7.1.2)\n",
            "Requirement already satisfied: kiwisolver>=1.0.1 in /usr/local/lib/python3.7/dist-packages (from matplotlib==3.3.3->d2l==0.17.2) (1.3.2)\n",
            "Requirement already satisfied: python-dateutil>=2.1 in /usr/local/lib/python3.7/dist-packages (from matplotlib==3.3.3->d2l==0.17.2) (2.8.2)\n",
            "Requirement already satisfied: pyparsing!=2.0.4,!=2.1.2,!=2.1.6,>=2.0.3 in /usr/local/lib/python3.7/dist-packages (from matplotlib==3.3.3->d2l==0.17.2) (3.0.6)\n",
            "Requirement already satisfied: cycler>=0.10 in /usr/local/lib/python3.7/dist-packages (from matplotlib==3.3.3->d2l==0.17.2) (0.11.0)\n",
            "Requirement already satisfied: pytz>=2017.3 in /usr/local/lib/python3.7/dist-packages (from pandas==1.2.2->d2l==0.17.2) (2018.9)\n",
            "Requirement already satisfied: urllib3<1.27,>=1.21.1 in /usr/local/lib/python3.7/dist-packages (from requests==2.25.1->d2l==0.17.2) (1.24.3)\n",
            "Requirement already satisfied: idna<3,>=2.5 in /usr/local/lib/python3.7/dist-packages (from requests==2.25.1->d2l==0.17.2) (2.10)\n",
            "Requirement already satisfied: certifi>=2017.4.17 in /usr/local/lib/python3.7/dist-packages (from requests==2.25.1->d2l==0.17.2) (2021.10.8)\n",
            "Requirement already satisfied: chardet<5,>=3.0.2 in /usr/local/lib/python3.7/dist-packages (from requests==2.25.1->d2l==0.17.2) (3.0.4)\n",
            "Requirement already satisfied: six>=1.5 in /usr/local/lib/python3.7/dist-packages (from python-dateutil>=2.1->matplotlib==3.3.3->d2l==0.17.2) (1.15.0)\n",
            "Requirement already satisfied: tornado>=4.0 in /usr/local/lib/python3.7/dist-packages (from ipykernel->jupyter==1.0.0->d2l==0.17.2) (5.1.1)\n",
            "Requirement already satisfied: jupyter-client in /usr/local/lib/python3.7/dist-packages (from ipykernel->jupyter==1.0.0->d2l==0.17.2) (5.3.5)\n",
            "Requirement already satisfied: ipython>=4.0.0 in /usr/local/lib/python3.7/dist-packages (from ipykernel->jupyter==1.0.0->d2l==0.17.2) (5.5.0)\n",
            "Requirement already satisfied: traitlets>=4.1.0 in /usr/local/lib/python3.7/dist-packages (from ipykernel->jupyter==1.0.0->d2l==0.17.2) (5.1.1)\n",
            "Requirement already satisfied: pexpect in /usr/local/lib/python3.7/dist-packages (from ipython>=4.0.0->ipykernel->jupyter==1.0.0->d2l==0.17.2) (4.8.0)\n",
            "Requirement already satisfied: prompt-toolkit<2.0.0,>=1.0.4 in /usr/local/lib/python3.7/dist-packages (from ipython>=4.0.0->ipykernel->jupyter==1.0.0->d2l==0.17.2) (1.0.18)\n",
            "Requirement already satisfied: pygments in /usr/local/lib/python3.7/dist-packages (from ipython>=4.0.0->ipykernel->jupyter==1.0.0->d2l==0.17.2) (2.6.1)\n",
            "Requirement already satisfied: simplegeneric>0.8 in /usr/local/lib/python3.7/dist-packages (from ipython>=4.0.0->ipykernel->jupyter==1.0.0->d2l==0.17.2) (0.8.1)\n",
            "Requirement already satisfied: pickleshare in /usr/local/lib/python3.7/dist-packages (from ipython>=4.0.0->ipykernel->jupyter==1.0.0->d2l==0.17.2) (0.7.5)\n",
            "Requirement already satisfied: decorator in /usr/local/lib/python3.7/dist-packages (from ipython>=4.0.0->ipykernel->jupyter==1.0.0->d2l==0.17.2) (4.4.2)\n",
            "Requirement already satisfied: setuptools>=18.5 in /usr/local/lib/python3.7/dist-packages (from ipython>=4.0.0->ipykernel->jupyter==1.0.0->d2l==0.17.2) (57.4.0)\n",
            "Requirement already satisfied: wcwidth in /usr/local/lib/python3.7/dist-packages (from prompt-toolkit<2.0.0,>=1.0.4->ipython>=4.0.0->ipykernel->jupyter==1.0.0->d2l==0.17.2) (0.2.5)\n",
            "Requirement already satisfied: nbformat>=4.2.0 in /usr/local/lib/python3.7/dist-packages (from ipywidgets->jupyter==1.0.0->d2l==0.17.2) (5.1.3)\n",
            "Requirement already satisfied: ipython-genutils~=0.2.0 in /usr/local/lib/python3.7/dist-packages (from ipywidgets->jupyter==1.0.0->d2l==0.17.2) (0.2.0)\n",
            "Requirement already satisfied: jupyterlab-widgets>=1.0.0 in /usr/local/lib/python3.7/dist-packages (from ipywidgets->jupyter==1.0.0->d2l==0.17.2) (1.0.2)\n",
            "Requirement already satisfied: widgetsnbextension~=3.5.0 in /usr/local/lib/python3.7/dist-packages (from ipywidgets->jupyter==1.0.0->d2l==0.17.2) (3.5.2)\n",
            "Requirement already satisfied: jsonschema!=2.5.0,>=2.4 in /usr/local/lib/python3.7/dist-packages (from nbformat>=4.2.0->ipywidgets->jupyter==1.0.0->d2l==0.17.2) (4.3.3)\n",
            "Requirement already satisfied: jupyter-core in /usr/local/lib/python3.7/dist-packages (from nbformat>=4.2.0->ipywidgets->jupyter==1.0.0->d2l==0.17.2) (4.9.1)\n",
            "Requirement already satisfied: typing-extensions in /usr/local/lib/python3.7/dist-packages (from jsonschema!=2.5.0,>=2.4->nbformat>=4.2.0->ipywidgets->jupyter==1.0.0->d2l==0.17.2) (3.10.0.2)\n",
            "Requirement already satisfied: attrs>=17.4.0 in /usr/local/lib/python3.7/dist-packages (from jsonschema!=2.5.0,>=2.4->nbformat>=4.2.0->ipywidgets->jupyter==1.0.0->d2l==0.17.2) (21.4.0)\n",
            "Requirement already satisfied: importlib-metadata in /usr/local/lib/python3.7/dist-packages (from jsonschema!=2.5.0,>=2.4->nbformat>=4.2.0->ipywidgets->jupyter==1.0.0->d2l==0.17.2) (4.10.0)\n",
            "Requirement already satisfied: importlib-resources>=1.4.0 in /usr/local/lib/python3.7/dist-packages (from jsonschema!=2.5.0,>=2.4->nbformat>=4.2.0->ipywidgets->jupyter==1.0.0->d2l==0.17.2) (5.4.0)\n",
            "Requirement already satisfied: pyrsistent!=0.17.0,!=0.17.1,!=0.17.2,>=0.14.0 in /usr/local/lib/python3.7/dist-packages (from jsonschema!=2.5.0,>=2.4->nbformat>=4.2.0->ipywidgets->jupyter==1.0.0->d2l==0.17.2) (0.18.0)\n",
            "Requirement already satisfied: zipp>=3.1.0 in /usr/local/lib/python3.7/dist-packages (from importlib-resources>=1.4.0->jsonschema!=2.5.0,>=2.4->nbformat>=4.2.0->ipywidgets->jupyter==1.0.0->d2l==0.17.2) (3.7.0)\n",
            "Requirement already satisfied: Send2Trash in /usr/local/lib/python3.7/dist-packages (from notebook->jupyter==1.0.0->d2l==0.17.2) (1.8.0)\n",
            "Requirement already satisfied: terminado>=0.8.1 in /usr/local/lib/python3.7/dist-packages (from notebook->jupyter==1.0.0->d2l==0.17.2) (0.12.1)\n",
            "Requirement already satisfied: jinja2 in /usr/local/lib/python3.7/dist-packages (from notebook->jupyter==1.0.0->d2l==0.17.2) (2.11.3)\n",
            "Requirement already satisfied: pyzmq>=13 in /usr/local/lib/python3.7/dist-packages (from jupyter-client->ipykernel->jupyter==1.0.0->d2l==0.17.2) (22.3.0)\n",
            "Requirement already satisfied: ptyprocess in /usr/local/lib/python3.7/dist-packages (from terminado>=0.8.1->notebook->jupyter==1.0.0->d2l==0.17.2) (0.7.0)\n",
            "Requirement already satisfied: MarkupSafe>=0.23 in /usr/local/lib/python3.7/dist-packages (from jinja2->notebook->jupyter==1.0.0->d2l==0.17.2) (2.0.1)\n",
            "Requirement already satisfied: testpath in /usr/local/lib/python3.7/dist-packages (from nbconvert->jupyter==1.0.0->d2l==0.17.2) (0.5.0)\n",
            "Requirement already satisfied: mistune<2,>=0.8.1 in /usr/local/lib/python3.7/dist-packages (from nbconvert->jupyter==1.0.0->d2l==0.17.2) (0.8.4)\n",
            "Requirement already satisfied: entrypoints>=0.2.2 in /usr/local/lib/python3.7/dist-packages (from nbconvert->jupyter==1.0.0->d2l==0.17.2) (0.3)\n",
            "Requirement already satisfied: pandocfilters>=1.4.1 in /usr/local/lib/python3.7/dist-packages (from nbconvert->jupyter==1.0.0->d2l==0.17.2) (1.5.0)\n",
            "Requirement already satisfied: defusedxml in /usr/local/lib/python3.7/dist-packages (from nbconvert->jupyter==1.0.0->d2l==0.17.2) (0.7.1)\n",
            "Requirement already satisfied: bleach in /usr/local/lib/python3.7/dist-packages (from nbconvert->jupyter==1.0.0->d2l==0.17.2) (4.1.0)\n",
            "Requirement already satisfied: packaging in /usr/local/lib/python3.7/dist-packages (from bleach->nbconvert->jupyter==1.0.0->d2l==0.17.2) (21.3)\n",
            "Requirement already satisfied: webencodings in /usr/local/lib/python3.7/dist-packages (from bleach->nbconvert->jupyter==1.0.0->d2l==0.17.2) (0.5.1)\n",
            "Requirement already satisfied: qtpy in /usr/local/lib/python3.7/dist-packages (from qtconsole->jupyter==1.0.0->d2l==0.17.2) (2.0.0)\n",
            "Installing collected packages: numpy, requests, pandas, matplotlib, d2l\n",
            "  Attempting uninstall: numpy\n",
            "    Found existing installation: numpy 1.19.5\n",
            "    Uninstalling numpy-1.19.5:\n",
            "      Successfully uninstalled numpy-1.19.5\n",
            "  Attempting uninstall: requests\n",
            "    Found existing installation: requests 2.23.0\n",
            "    Uninstalling requests-2.23.0:\n",
            "      Successfully uninstalled requests-2.23.0\n",
            "  Attempting uninstall: pandas\n",
            "    Found existing installation: pandas 1.1.5\n",
            "    Uninstalling pandas-1.1.5:\n",
            "      Successfully uninstalled pandas-1.1.5\n",
            "  Attempting uninstall: matplotlib\n",
            "    Found existing installation: matplotlib 3.2.2\n",
            "    Uninstalling matplotlib-3.2.2:\n",
            "      Successfully uninstalled matplotlib-3.2.2\n",
            "\u001b[31mERROR: pip's dependency resolver does not currently take into account all the packages that are installed. This behaviour is the source of the following dependency conflicts.\n",
            "google-colab 1.0.0 requires pandas~=1.1.0; python_version >= \"3.0\", but you have pandas 1.2.2 which is incompatible.\n",
            "google-colab 1.0.0 requires requests~=2.23.0, but you have requests 2.25.1 which is incompatible.\n",
            "datascience 0.10.6 requires folium==0.2.1, but you have folium 0.8.3 which is incompatible.\n",
            "albumentations 0.1.12 requires imgaug<0.2.7,>=0.2.5, but you have imgaug 0.2.9 which is incompatible.\u001b[0m\n",
            "Successfully installed d2l-0.17.2 matplotlib-3.3.3 numpy-1.18.5 pandas-1.2.2 requests-2.25.1\n"
          ]
        },
        {
          "data": {
            "application/vnd.colab-display-data+json": {
              "pip_warning": {
                "packages": [
                  "matplotlib",
                  "mpl_toolkits",
                  "numpy",
                  "pandas"
                ]
              }
            }
          },
          "metadata": {},
          "output_type": "display_data"
        }
      ],
      "source": [
        "!pip install d2l==0.17.2"
      ]
    },
    {
      "cell_type": "markdown",
      "metadata": {
        "id": "2XorMPa6nFIC"
      },
      "source": [
        "In this section, we will introduce GoogLeNet, presenting a slightly simplified version of the original model."
      ]
    },
    {
      "cell_type": "markdown",
      "metadata": {
        "id": "g89VFNRmnIvG"
      },
      "source": [
        "##Inception Blocks\n",
        "The basic convolutional block in GoogLeNet is called an Inception block, likely named due to a quote from the movie Inception (“We need to go deeper”).\n",
        "\n",
        "![Structure of the Inception block.](http://d2l.ai/_images/inception.svg)\n",
        "Structure of the Inception block\n",
        "\n",
        "the inception block consists of four parallel paths. The first three paths use convolutional layers with window sizes of  1×1 ,  3×3 , and  5×5  to extract information from different spatial sizes. The middle two paths perform a  1×1  convolution on the input to reduce the number of channels, reducing the model’s complexity. The fourth path uses a  3×3  maximum pooling layer, followed by a  1×1  convolutional layer to change the number of channels. The four paths all use appropriate padding to give the input and output the same height and width.\n",
        "\n"
      ]
    },
    {
      "cell_type": "code",
      "execution_count": null,
      "metadata": {
        "id": "1bsK6_IcoaQz"
      },
      "outputs": [],
      "source": [
        "import torch\n",
        "from torch import nn\n",
        "from torch.nn import functional as F\n",
        "from d2l import torch as d2l\n",
        "\n",
        "\n",
        "class Inception(nn.Module):\n",
        "    # `c1`--`c4` are the number of output channels for each path\n",
        "    def __init__(self, in_channels, c1, c2, c3, c4, **kwargs):\n",
        "        super(Inception, self).__init__(**kwargs)\n",
        "        # Path 1 is a single 1 x 1 convolutional layer\n",
        "        self.p1_1 = nn.Conv2d(in_channels, c1, kernel_size=1)\n",
        "        # Path 2 is a 1 x 1 convolutional layer followed by a 3 x 3\n",
        "        # convolutional layer\n",
        "        self.p2_1 = nn.Conv2d(in_channels, c2[0], kernel_size=1)\n",
        "        self.p2_2 = nn.Conv2d(c2[0], c2[1], kernel_size=3, padding=1)\n",
        "        # Path 3 is a 1 x 1 convolutional layer followed by a 5 x 5\n",
        "        # convolutional layer\n",
        "        self.p3_1 = nn.Conv2d(in_channels, c3[0], kernel_size=1)\n",
        "        self.p3_2 = nn.Conv2d(c3[0], c3[1], kernel_size=5, padding=2)\n",
        "        # Path 4 is a 3 x 3 maximum pooling layer followed by a 1 x 1\n",
        "        # convolutional layer\n",
        "        self.p4_1 = nn.MaxPool2d(kernel_size=3, stride=1, padding=1)\n",
        "        self.p4_2 = nn.Conv2d(in_channels, c4, kernel_size=1)\n",
        "\n",
        "    def forward(self, x):\n",
        "        p1 = F.relu(self.p1_1(x))\n",
        "        p2 = F.relu(self.p2_2(F.relu(self.p2_1(x))))\n",
        "        p3 = F.relu(self.p3_2(F.relu(self.p3_1(x))))\n",
        "        p4 = F.relu(self.p4_2(self.p4_1(x)))\n",
        "        # Concatenate the outputs on the channel dimension\n",
        "        return torch.cat((p1, p2, p3, p4), dim=1)"
      ]
    },
    {
      "cell_type": "markdown",
      "metadata": {
        "id": "N4JWumFLojYp"
      },
      "source": [
        "##GoogLeNet Model\n",
        "GoogLeNet uses a stack of a total of 9 inception blocks and global average pooling to generate its estimates. Maximum pooling between inception blocks reduces the dimensionality.\n",
        "\n",
        "![image.png](data:image/png;base64,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)\n",
        "\n",
        "We can now implement GoogLeNet piece by piece. The first module uses a 64-channel  7×7  convolutional layer."
      ]
    },
    {
      "cell_type": "code",
      "execution_count": null,
      "metadata": {
        "id": "4BJ8S-R8pQJd"
      },
      "outputs": [],
      "source": [
        "b1 = nn.Sequential(nn.Conv2d(1, 64, kernel_size=7, stride=2, padding=3),\n",
        "                   nn.ReLU(),\n",
        "                   nn.MaxPool2d(kernel_size=3, stride=2, padding=1))"
      ]
    },
    {
      "cell_type": "markdown",
      "metadata": {
        "id": "LZFzsKTxpcEn"
      },
      "source": [
        "The second module uses two convolutional layers: first, a 64-channel  1×1  convolutional layer, then a  3×3  convolutional layer that triples the number of channels. This corresponds to the second path in the Inception block."
      ]
    },
    {
      "cell_type": "code",
      "execution_count": null,
      "metadata": {
        "id": "yOIFBoudpdVz"
      },
      "outputs": [],
      "source": [
        "b2 = nn.Sequential(nn.Conv2d(64, 64, kernel_size=1),\n",
        "                   nn.ReLU(),\n",
        "                   nn.Conv2d(64, 192, kernel_size=3, padding=1),\n",
        "                   nn.ReLU(),\n",
        "                   nn.MaxPool2d(kernel_size=3, stride=2, padding=1))"
      ]
    },
    {
      "cell_type": "markdown",
      "metadata": {
        "id": "CeP6x2_FpkTh"
      },
      "source": [
        "The third module connects two complete Inception blocks in series"
      ]
    },
    {
      "cell_type": "code",
      "execution_count": null,
      "metadata": {
        "id": "yaJLETD8pliu"
      },
      "outputs": [],
      "source": [
        "b3 = nn.Sequential(Inception(192, 64, (96, 128), (16, 32), 32),\n",
        "                   Inception(256, 128, (128, 192), (32, 96), 64),\n",
        "                   nn.MaxPool2d(kernel_size=3, stride=2, padding=1))"
      ]
    },
    {
      "cell_type": "markdown",
      "metadata": {
        "id": "BWOB6b1uppiZ"
      },
      "source": [
        "The fourth module is more complicated. It connects five Inception blocks in series."
      ]
    },
    {
      "cell_type": "code",
      "execution_count": null,
      "metadata": {
        "id": "tEVbMbQCpwrm"
      },
      "outputs": [],
      "source": [
        "b4 = nn.Sequential(Inception(480, 192, (96, 208), (16, 48), 64),\n",
        "                   Inception(512, 160, (112, 224), (24, 64), 64),\n",
        "                   Inception(512, 128, (128, 256), (24, 64), 64),\n",
        "                   Inception(512, 112, (144, 288), (32, 64), 64),\n",
        "                   Inception(528, 256, (160, 320), (32, 128), 128),\n",
        "                   nn.MaxPool2d(kernel_size=3, stride=2, padding=1))"
      ]
    },
    {
      "cell_type": "markdown",
      "metadata": {
        "id": "RB3blZ66p0kM"
      },
      "source": [
        "The fifth module has two Inception blocks. Finally, we turn the output into a two-dimensional array followed by a fully-connected layer whose number of outputs is the number of label classes."
      ]
    },
    {
      "cell_type": "code",
      "execution_count": null,
      "metadata": {
        "id": "iy8yBt05p47M"
      },
      "outputs": [],
      "source": [
        "b5 = nn.Sequential(Inception(832, 256, (160, 320), (32, 128), 128),\n",
        "                   Inception(832, 384, (192, 384), (48, 128), 128),\n",
        "                   nn.AdaptiveAvgPool2d((1,1)),\n",
        "                   nn.Flatten())\n",
        "\n",
        "net = nn.Sequential(b1, b2, b3, b4, b5, nn.Linear(1024, 10))"
      ]
    },
    {
      "cell_type": "markdown",
      "metadata": {
        "id": "zodbHpe6qETF"
      },
      "source": [
        "The GoogLeNet model is computationally complex, so it is not as easy to modify the number of channels as in VGG. To have a reasonable training time on Fashion-MNIST, we reduce the input height and width from 224 to 96. This simplifies the computation. The changes in the shape of the output between the various modules are demonstrated below."
      ]
    },
    {
      "cell_type": "code",
      "execution_count": null,
      "metadata": {
        "colab": {
          "base_uri": "https://localhost:8080/"
        },
        "id": "1kKuWjOfqNtb",
        "outputId": "d3178de0-2026-4c8d-c086-4af82378f082"
      },
      "outputs": [
        {
          "name": "stdout",
          "output_type": "stream",
          "text": [
            "Sequential output shape:\t torch.Size([1, 64, 24, 24])\n",
            "Sequential output shape:\t torch.Size([1, 192, 12, 12])\n",
            "Sequential output shape:\t torch.Size([1, 480, 6, 6])\n",
            "Sequential output shape:\t torch.Size([1, 832, 3, 3])\n",
            "Sequential output shape:\t torch.Size([1, 1024])\n",
            "Linear output shape:\t torch.Size([1, 10])\n"
          ]
        }
      ],
      "source": [
        "X = torch.rand(size=(1, 1, 96, 96))\n",
        "for layer in net:\n",
        "    X = layer(X)\n",
        "    print(layer.__class__.__name__,'output shape:\\t', X.shape)"
      ]
    },
    {
      "cell_type": "markdown",
      "metadata": {
        "id": "op8Zzm2vqPAV"
      },
      "source": [
        "##Training\n",
        "As before, we train our model using the Fashion-MNIST dataset. We transform it to  96×96  pixel resolution before invoking the training procedure.\n"
      ]
    },
    {
      "cell_type": "code",
      "execution_count": null,
      "metadata": {
        "colab": {
          "background_save": true,
          "base_uri": "https://localhost:8080/",
          "height": 417
        },
        "id": "1oZaQ036qXwM",
        "outputId": "71b320c5-4964-4bc0-9d19-53b3c6c7e982"
      },
      "outputs": [
        {
          "data": {
            "text/plain": [
              "<Figure size 252x180 with 1 Axes>"
            ]
          },
          "metadata": {},
          "output_type": "display_data"
        }
      ],
      "source": [
        "lr, num_epochs, batch_size = 0.1, 10, 128\n",
        "train_iter, test_iter = d2l.load_data_fashion_mnist(batch_size, resize=96)\n",
        "d2l.train_ch6(net, train_iter, test_iter, num_epochs, lr, d2l.try_gpu())"
      ]
    },
    {
      "cell_type": "markdown",
      "metadata": {
        "id": "x-osr2BpqjTO"
      },
      "source": [
        "##Summary\n",
        "The Inception block is equivalent to a subnetwork with four paths. It extracts information in parallel through convolutional layers of different window shapes and maximum pooling layers.  1×1  convolutions reduce channel dimensionality on a per-pixel level. Maximum pooling reduces the resolution.\n",
        "\n",
        "GoogLeNet connects multiple well-designed Inception blocks with other layers in series. The ratio of the number of channels assigned in the Inception block is obtained through a large number of experiments on the ImageNet dataset.\n",
        "\n",
        "GoogLeNet, as well as its succeeding versions, was one of the most efficient models on ImageNet, providing similar test accuracy with lower computational complexity."
      ]
    }
  ],
  "metadata": {
    "accelerator": "GPU",
    "colab": {
      "authorship_tag": "ABX9TyNHYvodylLGu9+ToMRroaNp",
      "collapsed_sections": [],
      "include_colab_link": true,
      "name": "7.4. Networks with Parallel Concatenations (GoogLeNet).ipynb",
      "provenance": []
    },
    "kernelspec": {
      "display_name": "Python 3",
      "name": "python3"
    },
    "language_info": {
      "name": "python"
    }
  },
  "nbformat": 4,
  "nbformat_minor": 0
}
