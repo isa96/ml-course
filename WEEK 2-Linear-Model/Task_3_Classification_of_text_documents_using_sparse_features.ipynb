{
  "cells": [
    {
      "cell_type": "markdown",
      "metadata": {
        "id": "eEgLPrr--MmW"
      },
      "source": [
        "scikit-learn can be used to classify documents by topics using a bag-of-words approach. This example uses a scipy.sparse matrix to store the features and demonstrates various classifiers that can efficiently handle sparse matrices."
      ]
    },
    {
      "cell_type": "code",
      "execution_count": 1,
      "metadata": {
        "id": "QaoL8Cx9-FFn"
      },
      "outputs": [],
      "source": [
        "# Author: Peter Prettenhofer <peter.prettenhofer@gmail.com>\n",
        "#         Olivier Grisel <olivier.grisel@ensta.org>\n",
        "#         Mathieu Blondel <mathieu@mblondel.org>\n",
        "#         Lars Buitinck\n",
        "# License: BSD 3 clause\n",
        "\n",
        "import logging\n",
        "import numpy as np\n",
        "from optparse import OptionParser\n",
        "import sys\n",
        "from time import time\n",
        "import matplotlib.pyplot as plt\n",
        "\n",
        "from sklearn.datasets import fetch_20newsgroups\n",
        "from sklearn.feature_extraction.text import TfidfVectorizer\n",
        "from sklearn.feature_extraction.text import HashingVectorizer\n",
        "from sklearn.feature_selection import SelectFromModel\n",
        "from sklearn.feature_selection import SelectKBest, chi2\n",
        "from sklearn.linear_model import RidgeClassifier\n",
        "from sklearn.pipeline import Pipeline\n",
        "from sklearn.svm import LinearSVC\n",
        "from sklearn.linear_model import SGDClassifier\n",
        "from sklearn.linear_model import Perceptron\n",
        "from sklearn.linear_model import PassiveAggressiveClassifier\n",
        "from sklearn.naive_bayes import BernoulliNB, ComplementNB, MultinomialNB\n",
        "from sklearn.neighbors import KNeighborsClassifier\n",
        "from sklearn.neighbors import NearestCentroid\n",
        "from sklearn.ensemble import RandomForestClassifier\n",
        "from sklearn.utils.extmath import density\n",
        "from sklearn import metrics"
      ]
    },
    {
      "cell_type": "code",
      "execution_count": 2,
      "metadata": {
        "id": "ozC6g1mY-Qyf"
      },
      "outputs": [],
      "source": [
        "# Display progress logs on stdout\n",
        "logging.basicConfig(level=logging.INFO, format=\"%(asctime)s %(levelname)s %(message)s\")\n",
        "\n",
        "op = OptionParser()\n",
        "op.add_option(\n",
        "    \"--report\",\n",
        "    action=\"store_true\",\n",
        "    dest=\"print_report\",\n",
        "    help=\"Print a detailed classification report.\",\n",
        ")\n",
        "op.add_option(\n",
        "    \"--chi2_select\",\n",
        "    action=\"store\",\n",
        "    type=\"int\",\n",
        "    dest=\"select_chi2\",\n",
        "    help=\"Select some number of features using a chi-squared test\",\n",
        ")\n",
        "op.add_option(\n",
        "    \"--confusion_matrix\",\n",
        "    action=\"store_true\",\n",
        "    dest=\"print_cm\",\n",
        "    help=\"Print the confusion matrix.\",\n",
        ")\n",
        "op.add_option(\n",
        "    \"--top10\",\n",
        "    action=\"store_true\",\n",
        "    dest=\"print_top10\",\n",
        "    help=\"Print ten most discriminative terms per class for every classifier.\",\n",
        ")\n",
        "op.add_option(\n",
        "    \"--all_categories\",\n",
        "    action=\"store_true\",\n",
        "    dest=\"all_categories\",\n",
        "    help=\"Whether to use all categories or not.\",\n",
        ")\n",
        "op.add_option(\"--use_hashing\", action=\"store_true\", help=\"Use a hashing vectorizer.\")\n",
        "op.add_option(\n",
        "    \"--n_features\",\n",
        "    action=\"store\",\n",
        "    type=int,\n",
        "    default=2 ** 16,\n",
        "    help=\"n_features when using the hashing vectorizer.\",\n",
        ")\n",
        "op.add_option(\n",
        "    \"--filtered\",\n",
        "    action=\"store_true\",\n",
        "    help=(\n",
        "        \"Remove newsgroup information that is easily overfit: \"\n",
        "        \"headers, signatures, and quoting.\"\n",
        "    ),\n",
        ")\n",
        "\n",
        "\n",
        "def is_interactive():\n",
        "    return not hasattr(sys.modules[\"__main__\"], \"__file__\")"
      ]
    },
    {
      "cell_type": "code",
      "execution_count": 3,
      "metadata": {
        "colab": {
          "base_uri": "https://localhost:8080/"
        },
        "id": "LZBK-NMl-Tpj",
        "outputId": "94f04f33-031b-453d-c7b8-48af23814b90"
      },
      "outputs": [
        {
          "name": "stdout",
          "output_type": "stream",
          "text": [
            "Automatically created module for IPython interactive environment\n",
            "Usage: ipykernel_launcher.py [options]\n",
            "\n",
            "Options:\n",
            "  -h, --help            show this help message and exit\n",
            "  --report              Print a detailed classification report.\n",
            "  --chi2_select=SELECT_CHI2\n",
            "                        Select some number of features using a chi-squared\n",
            "                        test\n",
            "  --confusion_matrix    Print the confusion matrix.\n",
            "  --top10               Print ten most discriminative terms per class for\n",
            "                        every classifier.\n",
            "  --all_categories      Whether to use all categories or not.\n",
            "  --use_hashing         Use a hashing vectorizer.\n",
            "  --n_features=N_FEATURES\n",
            "                        n_features when using the hashing vectorizer.\n",
            "  --filtered            Remove newsgroup information that is easily overfit:\n",
            "                        headers, signatures, and quoting.\n",
            "\n"
          ]
        }
      ],
      "source": [
        "# work-around for Jupyter notebook and IPython console\n",
        "argv = [] if is_interactive() else sys.argv[1:]\n",
        "(opts, args) = op.parse_args(argv)\n",
        "if len(args) > 0:\n",
        "    op.error(\"this script takes no arguments.\")\n",
        "    sys.exit(1)\n",
        "\n",
        "print(__doc__)\n",
        "op.print_help()\n",
        "print()"
      ]
    },
    {
      "cell_type": "markdown",
      "metadata": {
        "id": "9Q1T3zWW-eft"
      },
      "source": [
        "#Load data from the training set"
      ]
    },
    {
      "cell_type": "code",
      "execution_count": 4,
      "metadata": {
        "colab": {
          "base_uri": "https://localhost:8080/"
        },
        "id": "E4zo5MS3-fOQ",
        "outputId": "fcfa5a87-c56e-47d5-b560-b70022e65ae6"
      },
      "outputs": [
        {
          "name": "stderr",
          "output_type": "stream",
          "text": [
            "Downloading 20news dataset. This may take a few minutes.\n",
            "2021-11-13 01:47:35,311 INFO Downloading 20news dataset. This may take a few minutes.\n",
            "Downloading dataset from https://ndownloader.figshare.com/files/5975967 (14 MB)\n",
            "2021-11-13 01:47:35,318 INFO Downloading dataset from https://ndownloader.figshare.com/files/5975967 (14 MB)\n"
          ]
        },
        {
          "name": "stdout",
          "output_type": "stream",
          "text": [
            "Loading 20 newsgroups dataset for categories:\n",
            "['alt.atheism', 'talk.religion.misc', 'comp.graphics', 'sci.space']\n",
            "data loaded\n"
          ]
        }
      ],
      "source": [
        "if opts.all_categories:\n",
        "    categories = None\n",
        "else:\n",
        "    categories = [\n",
        "        \"alt.atheism\",\n",
        "        \"talk.religion.misc\",\n",
        "        \"comp.graphics\",\n",
        "        \"sci.space\",\n",
        "    ]\n",
        "\n",
        "if opts.filtered:\n",
        "    remove = (\"headers\", \"footers\", \"quotes\")\n",
        "else:\n",
        "    remove = ()\n",
        "\n",
        "print(\"Loading 20 newsgroups dataset for categories:\")\n",
        "print(categories if categories else \"all\")\n",
        "\n",
        "data_train = fetch_20newsgroups(\n",
        "    subset=\"train\", categories=categories, shuffle=True, random_state=42, remove=remove\n",
        ")\n",
        "\n",
        "data_test = fetch_20newsgroups(\n",
        "    subset=\"test\", categories=categories, shuffle=True, random_state=42, remove=remove\n",
        ")\n",
        "print(\"data loaded\")"
      ]
    },
    {
      "cell_type": "code",
      "execution_count": 5,
      "metadata": {
        "colab": {
          "base_uri": "https://localhost:8080/"
        },
        "id": "dOeY0AoN-qRl",
        "outputId": "b878da22-aea8-46a6-d04f-f11a6c846e9c"
      },
      "outputs": [
        {
          "name": "stdout",
          "output_type": "stream",
          "text": [
            "2034 documents - 3.980MB (training set)\n",
            "1353 documents - 2.867MB (test set)\n",
            "4 categories\n",
            "\n"
          ]
        }
      ],
      "source": [
        "# order of labels in `target_names` can be different from `categories`\n",
        "target_names = data_train.target_names\n",
        "\n",
        "\n",
        "def size_mb(docs):\n",
        "    return sum(len(s.encode(\"utf-8\")) for s in docs) / 1e6\n",
        "\n",
        "\n",
        "data_train_size_mb = size_mb(data_train.data)\n",
        "data_test_size_mb = size_mb(data_test.data)\n",
        "\n",
        "print(\n",
        "    \"%d documents - %0.3fMB (training set)\" % (len(data_train.data), data_train_size_mb)\n",
        ")\n",
        "print(\"%d documents - %0.3fMB (test set)\" % (len(data_test.data), data_test_size_mb))\n",
        "print(\"%d categories\" % len(target_names))\n",
        "print()"
      ]
    },
    {
      "cell_type": "code",
      "execution_count": 6,
      "metadata": {
        "colab": {
          "base_uri": "https://localhost:8080/"
        },
        "id": "pJkqL5u3-vZE",
        "outputId": "a71fb965-98e9-4094-a493-ae264aa036ca"
      },
      "outputs": [
        {
          "name": "stdout",
          "output_type": "stream",
          "text": [
            "Extracting features from the training data using a sparse vectorizer\n",
            "done in 0.429700s at 9.261MB/s\n",
            "n_samples: 2034, n_features: 33809\n",
            "\n",
            "Extracting features from the test data using the same vectorizer\n",
            "done in 0.269476s at 10.641MB/s\n",
            "n_samples: 1353, n_features: 33809\n",
            "\n"
          ]
        }
      ],
      "source": [
        "# split a training set and a test set\n",
        "y_train, y_test = data_train.target, data_test.target\n",
        "\n",
        "print(\"Extracting features from the training data using a sparse vectorizer\")\n",
        "t0 = time()\n",
        "if opts.use_hashing:\n",
        "    vectorizer = HashingVectorizer(\n",
        "        stop_words=\"english\", alternate_sign=False, n_features=opts.n_features\n",
        "    )\n",
        "    X_train = vectorizer.transform(data_train.data)\n",
        "else:\n",
        "    vectorizer = TfidfVectorizer(sublinear_tf=True, max_df=0.5, stop_words=\"english\")\n",
        "    X_train = vectorizer.fit_transform(data_train.data)\n",
        "duration = time() - t0\n",
        "print(\"done in %fs at %0.3fMB/s\" % (duration, data_train_size_mb / duration))\n",
        "print(\"n_samples: %d, n_features: %d\" % X_train.shape)\n",
        "print()\n",
        "\n",
        "print(\"Extracting features from the test data using the same vectorizer\")\n",
        "t0 = time()\n",
        "X_test = vectorizer.transform(data_test.data)\n",
        "duration = time() - t0\n",
        "print(\"done in %fs at %0.3fMB/s\" % (duration, data_test_size_mb / duration))\n",
        "print(\"n_samples: %d, n_features: %d\" % X_test.shape)\n",
        "print()"
      ]
    },
    {
      "cell_type": "code",
      "execution_count": 8,
      "metadata": {
        "id": "mjwu5m1b-zJZ"
      },
      "outputs": [],
      "source": [
        "# mapping from integer feature name to original token string\n",
        "if opts.use_hashing:\n",
        "    feature_names = None\n",
        "else:\n",
        "    feature_names = vectorizer.get_feature_names()\n",
        "\n",
        "if opts.select_chi2:\n",
        "    print(\"Extracting %d best features by a chi-squared test\" % opts.select_chi2)\n",
        "    t0 = time()\n",
        "    ch2 = SelectKBest(chi2, k=opts.select_chi2)\n",
        "    X_train = ch2.fit_transform(X_train, y_train)\n",
        "    X_test = ch2.transform(X_test)\n",
        "    if feature_names is not None:\n",
        "        # keep selected feature names\n",
        "        feature_names = feature_names[ch2.get_support()]\n",
        "    print(\"done in %fs\" % (time() - t0))\n",
        "    print()\n",
        "\n",
        "\n",
        "def trim(s):\n",
        "    \"\"\"Trim string to fit on terminal (assuming 80-column display)\"\"\"\n",
        "    return s if len(s) <= 80 else s[:77] + \"...\""
      ]
    },
    {
      "cell_type": "markdown",
      "metadata": {
        "id": "deHpjDMO_PI5"
      },
      "source": [
        "#Benchmark classifiers"
      ]
    },
    {
      "cell_type": "code",
      "execution_count": 9,
      "metadata": {
        "colab": {
          "base_uri": "https://localhost:8080/"
        },
        "id": "n--ZNBdk_QOj",
        "outputId": "f76c0ebb-d57a-4f48-db92-5e0d145ec6a2"
      },
      "outputs": [
        {
          "name": "stdout",
          "output_type": "stream",
          "text": [
            "================================================================================\n",
            "Ridge Classifier\n",
            "________________________________________________________________________________\n",
            "Training: \n",
            "RidgeClassifier(alpha=1.0, class_weight=None, copy_X=True, fit_intercept=True,\n",
            "                max_iter=None, normalize=False, random_state=None, solver='sag',\n",
            "                tol=0.01)\n",
            "train time: 0.179s\n",
            "test time:  0.003s\n",
            "accuracy:   0.897\n",
            "dimensionality: 33809\n",
            "density: 1.000000\n",
            "\n",
            "\n",
            "================================================================================\n",
            "Perceptron\n",
            "________________________________________________________________________________\n",
            "Training: \n",
            "Perceptron(alpha=0.0001, class_weight=None, early_stopping=False, eta0=1.0,\n",
            "           fit_intercept=True, max_iter=50, n_iter_no_change=5, n_jobs=None,\n",
            "           penalty=None, random_state=0, shuffle=True, tol=0.001,\n",
            "           validation_fraction=0.1, verbose=0, warm_start=False)\n"
          ]
        },
        {
          "name": "stderr",
          "output_type": "stream",
          "text": [
            "/usr/local/lib/python3.7/dist-packages/sklearn/linear_model/_ridge.py:558: UserWarning: \"sag\" solver requires many iterations to fit an intercept with sparse inputs. Either set the solver to \"auto\" or \"sparse_cg\", or set a low \"tol\" and a high \"max_iter\" (especially if inputs are not standardized).\n",
            "  '\"sag\" solver requires many iterations to fit '\n"
          ]
        },
        {
          "name": "stdout",
          "output_type": "stream",
          "text": [
            "train time: 0.033s\n",
            "test time:  0.003s\n",
            "accuracy:   0.888\n",
            "dimensionality: 33809\n",
            "density: 0.255302\n",
            "\n",
            "\n",
            "================================================================================\n",
            "Passive-Aggressive\n",
            "________________________________________________________________________________\n",
            "Training: \n",
            "PassiveAggressiveClassifier(C=1.0, average=False, class_weight=None,\n",
            "                            early_stopping=False, fit_intercept=True,\n",
            "                            loss='hinge', max_iter=50, n_iter_no_change=5,\n",
            "                            n_jobs=None, random_state=None, shuffle=True,\n",
            "                            tol=0.001, validation_fraction=0.1, verbose=0,\n",
            "                            warm_start=False)\n",
            "train time: 0.048s\n",
            "test time:  0.004s\n",
            "accuracy:   0.902\n",
            "dimensionality: 33809\n",
            "density: 0.700553\n",
            "\n",
            "\n",
            "================================================================================\n",
            "kNN\n",
            "________________________________________________________________________________\n",
            "Training: \n",
            "KNeighborsClassifier(algorithm='auto', leaf_size=30, metric='minkowski',\n",
            "                     metric_params=None, n_jobs=None, n_neighbors=10, p=2,\n",
            "                     weights='uniform')\n",
            "train time: 0.002s\n",
            "test time:  0.227s\n",
            "accuracy:   0.858\n",
            "\n",
            "================================================================================\n",
            "Random forest\n",
            "________________________________________________________________________________\n",
            "Training: \n",
            "RandomForestClassifier(bootstrap=True, ccp_alpha=0.0, class_weight=None,\n",
            "                       criterion='gini', max_depth=None, max_features='auto',\n",
            "                       max_leaf_nodes=None, max_samples=None,\n",
            "                       min_impurity_decrease=0.0, min_impurity_split=None,\n",
            "                       min_samples_leaf=1, min_samples_split=2,\n",
            "                       min_weight_fraction_leaf=0.0, n_estimators=100,\n",
            "                       n_jobs=None, oob_score=False, random_state=None,\n",
            "                       verbose=0, warm_start=False)\n",
            "train time: 1.620s\n",
            "test time:  0.084s\n",
            "accuracy:   0.833\n",
            "\n",
            "================================================================================\n",
            "L2 penalty\n",
            "________________________________________________________________________________\n",
            "Training: \n",
            "LinearSVC(C=1.0, class_weight=None, dual=False, fit_intercept=True,\n",
            "          intercept_scaling=1, loss='squared_hinge', max_iter=1000,\n",
            "          multi_class='ovr', penalty='l2', random_state=None, tol=0.001,\n",
            "          verbose=0)\n",
            "train time: 0.106s\n",
            "test time:  0.002s\n",
            "accuracy:   0.900\n",
            "dimensionality: 33809\n",
            "density: 1.000000\n",
            "\n",
            "\n",
            "________________________________________________________________________________\n",
            "Training: \n",
            "SGDClassifier(alpha=0.0001, average=False, class_weight=None,\n",
            "              early_stopping=False, epsilon=0.1, eta0=0.0, fit_intercept=True,\n",
            "              l1_ratio=0.15, learning_rate='optimal', loss='hinge', max_iter=50,\n",
            "              n_iter_no_change=5, n_jobs=None, penalty='l2', power_t=0.5,\n",
            "              random_state=None, shuffle=True, tol=0.001,\n",
            "              validation_fraction=0.1, verbose=0, warm_start=False)\n",
            "train time: 0.039s\n",
            "test time:  0.002s\n",
            "accuracy:   0.902\n",
            "dimensionality: 33809\n",
            "density: 0.579912\n",
            "\n",
            "\n",
            "================================================================================\n",
            "L1 penalty\n",
            "________________________________________________________________________________\n",
            "Training: \n",
            "LinearSVC(C=1.0, class_weight=None, dual=False, fit_intercept=True,\n",
            "          intercept_scaling=1, loss='squared_hinge', max_iter=1000,\n",
            "          multi_class='ovr', penalty='l1', random_state=None, tol=0.001,\n",
            "          verbose=0)\n",
            "train time: 0.224s\n",
            "test time:  0.001s\n",
            "accuracy:   0.873\n",
            "dimensionality: 33809\n",
            "density: 0.005546\n",
            "\n",
            "\n",
            "________________________________________________________________________________\n",
            "Training: \n",
            "SGDClassifier(alpha=0.0001, average=False, class_weight=None,\n",
            "              early_stopping=False, epsilon=0.1, eta0=0.0, fit_intercept=True,\n",
            "              l1_ratio=0.15, learning_rate='optimal', loss='hinge', max_iter=50,\n",
            "              n_iter_no_change=5, n_jobs=None, penalty='l1', power_t=0.5,\n",
            "              random_state=None, shuffle=True, tol=0.001,\n",
            "              validation_fraction=0.1, verbose=0, warm_start=False)\n",
            "train time: 0.129s\n",
            "test time:  0.003s\n",
            "accuracy:   0.882\n",
            "dimensionality: 33809\n",
            "density: 0.023152\n",
            "\n",
            "\n"
          ]
        }
      ],
      "source": [
        "def benchmark(clf):\n",
        "    print(\"_\" * 80)\n",
        "    print(\"Training: \")\n",
        "    print(clf)\n",
        "    t0 = time()\n",
        "    clf.fit(X_train, y_train)\n",
        "    train_time = time() - t0\n",
        "    print(\"train time: %0.3fs\" % train_time)\n",
        "\n",
        "    t0 = time()\n",
        "    pred = clf.predict(X_test)\n",
        "    test_time = time() - t0\n",
        "    print(\"test time:  %0.3fs\" % test_time)\n",
        "\n",
        "    score = metrics.accuracy_score(y_test, pred)\n",
        "    print(\"accuracy:   %0.3f\" % score)\n",
        "\n",
        "    if hasattr(clf, \"coef_\"):\n",
        "        print(\"dimensionality: %d\" % clf.coef_.shape[1])\n",
        "        print(\"density: %f\" % density(clf.coef_))\n",
        "\n",
        "        if opts.print_top10 and feature_names is not None:\n",
        "            print(\"top 10 keywords per class:\")\n",
        "            for i, label in enumerate(target_names):\n",
        "                top10 = np.argsort(clf.coef_[i])[-10:]\n",
        "                print(trim(\"%s: %s\" % (label, \" \".join(feature_names[top10]))))\n",
        "        print()\n",
        "\n",
        "    if opts.print_report:\n",
        "        print(\"classification report:\")\n",
        "        print(metrics.classification_report(y_test, pred, target_names=target_names))\n",
        "\n",
        "    if opts.print_cm:\n",
        "        print(\"confusion matrix:\")\n",
        "        print(metrics.confusion_matrix(y_test, pred))\n",
        "\n",
        "    print()\n",
        "    clf_descr = str(clf).split(\"(\")[0]\n",
        "    return clf_descr, score, train_time, test_time\n",
        "\n",
        "\n",
        "results = []\n",
        "for clf, name in (\n",
        "    (RidgeClassifier(tol=1e-2, solver=\"sag\"), \"Ridge Classifier\"),\n",
        "    (Perceptron(max_iter=50), \"Perceptron\"),\n",
        "    (PassiveAggressiveClassifier(max_iter=50), \"Passive-Aggressive\"),\n",
        "    (KNeighborsClassifier(n_neighbors=10), \"kNN\"),\n",
        "    (RandomForestClassifier(), \"Random forest\"),\n",
        "):\n",
        "    print(\"=\" * 80)\n",
        "    print(name)\n",
        "    results.append(benchmark(clf))\n",
        "\n",
        "for penalty in [\"l2\", \"l1\"]:\n",
        "    print(\"=\" * 80)\n",
        "    print(\"%s penalty\" % penalty.upper())\n",
        "    # Train Liblinear model\n",
        "    results.append(benchmark(LinearSVC(penalty=penalty, dual=False, tol=1e-3)))\n",
        "\n",
        "    # Train SGD model\n",
        "    results.append(benchmark(SGDClassifier(alpha=0.0001, max_iter=50, penalty=penalty)))"
      ]
    },
    {
      "cell_type": "code",
      "execution_count": 10,
      "metadata": {
        "colab": {
          "base_uri": "https://localhost:8080/"
        },
        "id": "MdAQqeyp_YRw",
        "outputId": "908622e8-2bbc-4936-d7cb-12b4c1d0cccd"
      },
      "outputs": [
        {
          "name": "stdout",
          "output_type": "stream",
          "text": [
            "================================================================================\n",
            "Elastic-Net penalty\n",
            "________________________________________________________________________________\n",
            "Training: \n",
            "SGDClassifier(alpha=0.0001, average=False, class_weight=None,\n",
            "              early_stopping=False, epsilon=0.1, eta0=0.0, fit_intercept=True,\n",
            "              l1_ratio=0.15, learning_rate='optimal', loss='hinge', max_iter=50,\n",
            "              n_iter_no_change=5, n_jobs=None, penalty='elasticnet',\n",
            "              power_t=0.5, random_state=None, shuffle=True, tol=0.001,\n",
            "              validation_fraction=0.1, verbose=0, warm_start=False)\n",
            "train time: 0.164s\n",
            "test time:  0.003s\n",
            "accuracy:   0.899\n",
            "dimensionality: 33809\n",
            "density: 0.188485\n",
            "\n",
            "\n"
          ]
        }
      ],
      "source": [
        "# Train SGD with Elastic Net penalty\n",
        "print(\"=\" * 80)\n",
        "print(\"Elastic-Net penalty\")\n",
        "results.append(\n",
        "    benchmark(SGDClassifier(alpha=0.0001, max_iter=50, penalty=\"elasticnet\"))\n",
        ")"
      ]
    },
    {
      "cell_type": "code",
      "execution_count": 11,
      "metadata": {
        "colab": {
          "base_uri": "https://localhost:8080/"
        },
        "id": "6U6SUNUw_aWd",
        "outputId": "86f293b4-90ed-4544-d6db-893da51c97dc"
      },
      "outputs": [
        {
          "name": "stdout",
          "output_type": "stream",
          "text": [
            "================================================================================\n",
            "NearestCentroid (aka Rocchio classifier)\n",
            "________________________________________________________________________________\n",
            "Training: \n",
            "NearestCentroid(metric='euclidean', shrink_threshold=None)\n",
            "train time: 0.020s\n",
            "test time:  0.003s\n",
            "accuracy:   0.855\n",
            "\n"
          ]
        }
      ],
      "source": [
        "# Train NearestCentroid without threshold\n",
        "print(\"=\" * 80)\n",
        "print(\"NearestCentroid (aka Rocchio classifier)\")\n",
        "results.append(benchmark(NearestCentroid()))"
      ]
    },
    {
      "cell_type": "code",
      "execution_count": 12,
      "metadata": {
        "colab": {
          "base_uri": "https://localhost:8080/"
        },
        "id": "h8ba3nhL_eM2",
        "outputId": "08e38383-34f9-45b6-ef49-70872b51705d"
      },
      "outputs": [
        {
          "name": "stdout",
          "output_type": "stream",
          "text": [
            "================================================================================\n",
            "Naive Bayes\n",
            "________________________________________________________________________________\n",
            "Training: \n",
            "MultinomialNB(alpha=0.01, class_prior=None, fit_prior=True)\n",
            "train time: 0.013s\n",
            "test time:  0.002s\n",
            "accuracy:   0.899\n",
            "dimensionality: 33809\n",
            "density: 1.000000\n",
            "\n",
            "\n",
            "________________________________________________________________________________\n",
            "Training: \n",
            "BernoulliNB(alpha=0.01, binarize=0.0, class_prior=None, fit_prior=True)\n",
            "train time: 0.010s\n",
            "test time:  0.007s\n",
            "accuracy:   0.884\n",
            "dimensionality: 33809\n",
            "density: 1.000000\n",
            "\n",
            "\n",
            "________________________________________________________________________________\n",
            "Training: \n",
            "ComplementNB(alpha=0.1, class_prior=None, fit_prior=True, norm=False)\n",
            "train time: 0.010s\n",
            "test time:  0.002s\n",
            "accuracy:   0.911\n",
            "dimensionality: 33809\n",
            "density: 1.000000\n",
            "\n",
            "\n",
            "================================================================================\n",
            "LinearSVC with L1-based feature selection\n",
            "________________________________________________________________________________\n",
            "Training: \n",
            "Pipeline(memory=None,\n",
            "         steps=[('feature_selection',\n",
            "                 SelectFromModel(estimator=LinearSVC(C=1.0, class_weight=None,\n",
            "                                                     dual=False,\n",
            "                                                     fit_intercept=True,\n",
            "                                                     intercept_scaling=1,\n",
            "                                                     loss='squared_hinge',\n",
            "                                                     max_iter=1000,\n",
            "                                                     multi_class='ovr',\n",
            "                                                     penalty='l1',\n",
            "                                                     random_state=None,\n",
            "                                                     tol=0.001, verbose=0),\n",
            "                                 max_features=None, norm_order=1, prefit=False,\n",
            "                                 threshold=None)),\n",
            "                ('classification',\n",
            "                 LinearSVC(C=1.0, class_weight=None, dual=True,\n",
            "                           fit_intercept=True, intercept_scaling=1,\n",
            "                           loss='squared_hinge', max_iter=1000,\n",
            "                           multi_class='ovr', penalty='l2', random_state=None,\n",
            "                           tol=0.0001, verbose=0))],\n",
            "         verbose=False)\n",
            "train time: 0.274s\n",
            "test time:  0.004s\n",
            "accuracy:   0.880\n",
            "\n"
          ]
        }
      ],
      "source": [
        "# Train sparse Naive Bayes classifiers\n",
        "print(\"=\" * 80)\n",
        "print(\"Naive Bayes\")\n",
        "results.append(benchmark(MultinomialNB(alpha=0.01)))\n",
        "results.append(benchmark(BernoulliNB(alpha=0.01)))\n",
        "results.append(benchmark(ComplementNB(alpha=0.1)))\n",
        "\n",
        "print(\"=\" * 80)\n",
        "print(\"LinearSVC with L1-based feature selection\")\n",
        "# The smaller C, the stronger the regularization.\n",
        "# The more regularization, the more sparsity.\n",
        "results.append(\n",
        "    benchmark(\n",
        "        Pipeline(\n",
        "            [\n",
        "                (\n",
        "                    \"feature_selection\",\n",
        "                    SelectFromModel(LinearSVC(penalty=\"l1\", dual=False, tol=1e-3)),\n",
        "                ),\n",
        "                (\"classification\", LinearSVC(penalty=\"l2\")),\n",
        "            ]\n",
        "        )\n",
        "    )\n",
        ")"
      ]
    },
    {
      "cell_type": "markdown",
      "metadata": {
        "id": "kDe0Ck7O_hBK"
      },
      "source": [
        "#Add plots\n",
        "\n",
        "The bar plot indicates the accuracy, training time (normalized) and test time (normalized) of each classifier."
      ]
    },
    {
      "cell_type": "code",
      "execution_count": 13,
      "metadata": {
        "colab": {
          "base_uri": "https://localhost:8080/",
          "height": 537
        },
        "id": "JDgOfvno_gr8",
        "outputId": "c19e3a7e-2b68-40bd-b61c-6f5945eba447"
      },
      "outputs": [
        {
          "data": {
            "image/png": "[encoded data removed]",
            "text/plain": [
              "<Figure size 864x576 with 1 Axes>"
            ]
          },
          "metadata": {
            "needs_background": "light"
          },
          "output_type": "display_data"
        }
      ],
      "source": [
        "indices = np.arange(len(results))\n",
        "\n",
        "results = [[x[i] for x in results] for i in range(4)]\n",
        "\n",
        "clf_names, score, training_time, test_time = results\n",
        "training_time = np.array(training_time) / np.max(training_time)\n",
        "test_time = np.array(test_time) / np.max(test_time)\n",
        "\n",
        "plt.figure(figsize=(12, 8))\n",
        "plt.title(\"Score\")\n",
        "plt.barh(indices, score, 0.2, label=\"score\", color=\"navy\")\n",
        "plt.barh(indices + 0.3, training_time, 0.2, label=\"training time\", color=\"c\")\n",
        "plt.barh(indices + 0.6, test_time, 0.2, label=\"test time\", color=\"darkorange\")\n",
        "plt.yticks(())\n",
        "plt.legend(loc=\"best\")\n",
        "plt.subplots_adjust(left=0.25)\n",
        "plt.subplots_adjust(top=0.95)\n",
        "plt.subplots_adjust(bottom=0.05)\n",
        "\n",
        "for i, c in zip(indices, clf_names):\n",
        "    plt.text(-0.3, i, c)\n",
        "\n",
        "plt.show()"
      ]
    }
  ],
  "metadata": {
    "colab": {
      "authorship_tag": "ABX9TyMvyhRZPsz/0GoYV/7XUtBY",
      "include_colab_link": true,
      "name": "Task 3 Classification of text documents using sparse features.ipynb",
      "provenance": []
    },
    "kernelspec": {
      "display_name": "Python 3",
      "name": "python3"
    },
    "language_info": {
      "name": "python"
    }
  },
  "nbformat": 4,
  "nbformat_minor": 0
}
