{
  "cells": [
    {
      "cell_type": "code",
      "execution_count": 1,
      "metadata": {
        "id": "zObAdsz1lrKH"
      },
      "outputs": [],
      "source": [
        "from sklearn.model_selection import train_test_split\n",
        "from sklearn.preprocessing import StandardScaler\n",
        "from sklearn.decomposition import PCA\n",
        "from sklearn.naive_bayes import GaussianNB\n",
        "from sklearn import metrics\n",
        "import matplotlib.pyplot as plt\n",
        "from sklearn.datasets import load_wine\n",
        "from sklearn.pipeline import make_pipeline\n",
        "\n",
        "# Code source: Tyler Lanigan <tylerlanigan@gmail.com>\n",
        "#              Sebastian Raschka <mail@sebastianraschka.com>\n",
        "\n",
        "# License: BSD 3 clause"
      ]
    },
    {
      "cell_type": "code",
      "execution_count": 2,
      "metadata": {
        "id": "3er5OFFIlzyY"
      },
      "outputs": [],
      "source": [
        "RANDOM_STATE = 42\n",
        "FIG_SIZE = (10, 7)"
      ]
    },
    {
      "cell_type": "code",
      "execution_count": 3,
      "metadata": {
        "id": "tt8fRaajl1LF"
      },
      "outputs": [],
      "source": [
        "features, target = load_wine(return_X_y=True)"
      ]
    },
    {
      "cell_type": "code",
      "execution_count": 4,
      "metadata": {
        "id": "qeNCt3Hml2Tt"
      },
      "outputs": [],
      "source": [
        "# Make a train/test split using 30% test size\n",
        "X_train, X_test, y_train, y_test = train_test_split(\n",
        "    features, target, test_size=0.30, random_state=RANDOM_STATE\n",
        ")"
      ]
    },
    {
      "cell_type": "code",
      "execution_count": 5,
      "metadata": {
        "id": "ZcUvBi95l3ZY"
      },
      "outputs": [],
      "source": [
        "# Fit to data and predict using pipelined GNB and PCA.\n",
        "unscaled_clf = make_pipeline(PCA(n_components=2), GaussianNB())\n",
        "unscaled_clf.fit(X_train, y_train)\n",
        "pred_test = unscaled_clf.predict(X_test)"
      ]
    },
    {
      "cell_type": "code",
      "execution_count": 6,
      "metadata": {
        "id": "uhdxfjatl5ML"
      },
      "outputs": [],
      "source": [
        "# Fit to data and predict using pipelined scaling, GNB and PCA.\n",
        "std_clf = make_pipeline(StandardScaler(), PCA(n_components=2), GaussianNB())\n",
        "std_clf.fit(X_train, y_train)\n",
        "pred_test_std = std_clf.predict(X_test)"
      ]
    },
    {
      "cell_type": "code",
      "execution_count": 7,
      "metadata": {
        "colab": {
          "base_uri": "https://localhost:8080/"
        },
        "id": "M4LsP01Fl7lV",
        "outputId": "6c2b3b72-a6b7-4d4a-9e82-629cbc1da18c"
      },
      "outputs": [
        {
          "name": "stdout",
          "output_type": "stream",
          "text": [
            "\n",
            "Prediction accuracy for the normal test dataset with PCA\n",
            "81.48%\n",
            "\n"
          ]
        }
      ],
      "source": [
        "# Show prediction accuracies in scaled and unscaled data.\n",
        "print(\"\\nPrediction accuracy for the normal test dataset with PCA\")\n",
        "print(\"{:.2%}\\n\".format(metrics.accuracy_score(y_test, pred_test)))"
      ]
    },
    {
      "cell_type": "code",
      "execution_count": 8,
      "metadata": {
        "colab": {
          "base_uri": "https://localhost:8080/"
        },
        "id": "qCtklZJ1l9ic",
        "outputId": "cee89883-490e-4709-e269-91d1327fbeaf"
      },
      "outputs": [
        {
          "name": "stdout",
          "output_type": "stream",
          "text": [
            "\n",
            "Prediction accuracy for the standardized test dataset with PCA\n",
            "98.15%\n",
            "\n"
          ]
        }
      ],
      "source": [
        "print(\"\\nPrediction accuracy for the standardized test dataset with PCA\")\n",
        "print(\"{:.2%}\\n\".format(metrics.accuracy_score(y_test, pred_test_std)))"
      ]
    },
    {
      "cell_type": "code",
      "execution_count": 9,
      "metadata": {
        "id": "zXSg8Q0wl_ND"
      },
      "outputs": [],
      "source": [
        "# Extract PCA from pipeline\n",
        "pca = unscaled_clf.named_steps[\"pca\"]\n",
        "pca_std = std_clf.named_steps[\"pca\"]"
      ]
    },
    {
      "cell_type": "code",
      "execution_count": 10,
      "metadata": {
        "colab": {
          "base_uri": "https://localhost:8080/"
        },
        "id": "64rtIRbpmA1c",
        "outputId": "d620e55c-a648-46d1-852a-59e3c36fc4d9"
      },
      "outputs": [
        {
          "name": "stdout",
          "output_type": "stream",
          "text": [
            "\n",
            "PC 1 without scaling:\n",
            " [ 1.76342917e-03 -8.35544737e-04  1.54623496e-04 -5.31136096e-03\n",
            "  2.01663336e-02  1.02440667e-03  1.53155502e-03 -1.11663562e-04\n",
            "  6.31071580e-04  2.32645551e-03  1.53606718e-04  7.43176482e-04\n",
            "  9.99775716e-01]\n",
            "\n",
            "PC 1 with scaling:\n",
            " [ 0.13443023 -0.25680248 -0.0113463  -0.23405337  0.15840049  0.39194918\n",
            "  0.41607649 -0.27871336  0.33129255 -0.11383282  0.29726413  0.38054255\n",
            "  0.27507157]\n"
          ]
        }
      ],
      "source": [
        "# Show first principal components\n",
        "print(\"\\nPC 1 without scaling:\\n\", pca.components_[0])\n",
        "print(\"\\nPC 1 with scaling:\\n\", pca_std.components_[0])"
      ]
    },
    {
      "cell_type": "code",
      "execution_count": 11,
      "metadata": {
        "id": "KX4ttnY2mBbd"
      },
      "outputs": [],
      "source": [
        "# Use PCA without and with scale on X_train data for visualization.\n",
        "X_train_transformed = pca.transform(X_train)\n",
        "scaler = std_clf.named_steps[\"standardscaler\"]\n",
        "X_train_std_transformed = pca_std.transform(scaler.transform(X_train))"
      ]
    },
    {
      "cell_type": "code",
      "execution_count": 12,
      "metadata": {
        "colab": {
          "base_uri": "https://localhost:8080/",
          "height": 506
        },
        "id": "2lSes982mD5U",
        "outputId": "28c7c4e9-a1bb-495b-f7fb-798c57068d64"
      },
      "outputs": [
        {
          "data": {
            "image/png": "[encoded data removed]",
            "text/plain": [
              "<Figure size 720x504 with 2 Axes>"
            ]
          },
          "metadata": {
            "needs_background": "light"
          },
          "output_type": "display_data"
        },
        {
          "data": {
            "text/plain": [
              "<Figure size 432x288 with 0 Axes>"
            ]
          },
          "metadata": {},
          "output_type": "display_data"
        }
      ],
      "source": [
        "# visualize standardized vs. untouched dataset with PCA performed\n",
        "fig, (ax1, ax2) = plt.subplots(ncols=2, figsize=FIG_SIZE)\n",
        "for l, c, m in zip(range(0, 3), (\"blue\", \"red\", \"green\"), (\"^\", \"s\", \"o\")):\n",
        "    ax1.scatter(\n",
        "        X_train_transformed[y_train == l, 0],\n",
        "        X_train_transformed[y_train == l, 1],\n",
        "        color=c,\n",
        "        label=\"class %s\" % l,\n",
        "        alpha=0.5,\n",
        "        marker=m,\n",
        "    )\n",
        "\n",
        "for l, c, m in zip(range(0, 3), (\"blue\", \"red\", \"green\"), (\"^\", \"s\", \"o\")):\n",
        "    ax2.scatter(\n",
        "        X_train_std_transformed[y_train == l, 0],\n",
        "        X_train_std_transformed[y_train == l, 1],\n",
        "        color=c,\n",
        "        label=\"class %s\" % l,\n",
        "        alpha=0.5,\n",
        "        marker=m,\n",
        "    )\n",
        "    ax1.set_title(\"Training dataset after PCA\")\n",
        "ax2.set_title(\"Standardized training dataset after PCA\")\n",
        "for ax in (ax1, ax2):\n",
        "    ax.set_xlabel(\"1st principal component\")\n",
        "    ax.set_ylabel(\"2nd principal component\")\n",
        "    ax.legend(loc=\"upper right\")\n",
        "    ax.grid()\n",
        "\n",
        "    plt.tight_layout()\n",
        "    plt.show()"
      ]
    }
  ],
  "metadata": {
    "colab": {
      "authorship_tag": "ABX9TyOPpPRNK0Zis/nYKMe7VBDc",
      "include_colab_link": true,
      "name": "7 PCA Feature Scaling.ipynb",
      "provenance": []
    },
    "kernelspec": {
      "display_name": "Python 3",
      "name": "python3"
    },
    "language_info": {
      "name": "python"
    }
  },
  "nbformat": 4,
  "nbformat_minor": 0
}
