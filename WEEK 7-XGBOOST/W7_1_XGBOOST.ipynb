{
  "cells": [
    {
      "cell_type": "markdown",
      "metadata": {
        "id": "TaVAZ4xT4hmh"
      },
      "source": [
        "Predictions with XGboost and Linear Regression\n",
        "\n",
        "cr: https://www.kaggle.com/dansbecker/xgboost"
      ]
    },
    {
      "cell_type": "code",
      "execution_count": 13,
      "metadata": {
        "id": "3p2gufp_3xup"
      },
      "outputs": [],
      "source": [
        "import numpy as np\n",
        "import pandas as pd\n",
        "import matplotlib.pyplot as plt\n",
        "import xgboost\n",
        "import math\n",
        "from __future__ import division\n",
        "from scipy.stats import pearsonr\n",
        "from sklearn.linear_model import LinearRegression\n",
        "from sklearn.model_selection import train_test_split\n",
        "from sklearn.metrics import explained_variance_score"
      ]
    },
    {
      "cell_type": "markdown",
      "metadata": {
        "id": "ebgWs3QZ7iLO"
      },
      "source": [
        "#1. Exploratory Data Analysis"
      ]
    },
    {
      "cell_type": "code",
      "execution_count": 15,
      "metadata": {
        "id": "i3RSMmXl5wgl"
      },
      "outputs": [],
      "source": [
        "# Read the data into a data frame\n",
        "data = pd.read_csv('kc_house_data.csv')"
      ]
    },
    {
      "cell_type": "code",
      "execution_count": 16,
      "metadata": {
        "colab": {
          "base_uri": "https://localhost:8080/"
        },
        "id": "dn-oAn_G7n_S",
        "outputId": "8cdc13f2-f48e-4fc6-ad18-7a033303fc13"
      },
      "outputs": [
        {
          "name": "stdout",
          "output_type": "stream",
          "text": [
            "21613\n",
            "21\n",
            "[dtype('int64') dtype('O') dtype('float64')]\n"
          ]
        }
      ],
      "source": [
        "# Check the number of data points in the data set\n",
        "print(len(data))\n",
        "# Check the number of features in the data set\n",
        "print(len(data.columns))\n",
        "# Check the data types\n",
        "print(data.dtypes.unique())"
      ]
    },
    {
      "cell_type": "markdown",
      "metadata": {
        "id": "YcxeH6fD7svN"
      },
      "source": [
        "Since there are Python objects in the data set, we may have some categorical features. Let's check them."
      ]
    },
    {
      "cell_type": "code",
      "execution_count": 17,
      "metadata": {
        "colab": {
          "base_uri": "https://localhost:8080/"
        },
        "id": "BmykGOu67tZr",
        "outputId": "cada6778-1b3d-4c85-c6e1-02e195c39ea4"
      },
      "outputs": [
        {
          "data": {
            "text/plain": [
              "['date']"
            ]
          },
          "execution_count": 17,
          "metadata": {},
          "output_type": "execute_result"
        }
      ],
      "source": [
        "data.select_dtypes(include=['O']).columns.tolist()"
      ]
    },
    {
      "cell_type": "markdown",
      "metadata": {
        "id": "_CMd0aDg70FZ"
      },
      "source": [
        "We only have the date column which is a timestamp that we will ignore."
      ]
    },
    {
      "cell_type": "code",
      "execution_count": 18,
      "metadata": {
        "colab": {
          "base_uri": "https://localhost:8080/"
        },
        "id": "UJLrfdb870rS",
        "outputId": "dd0bae3c-f7f5-4bfc-a0d7-5ed61d94841c"
      },
      "outputs": [
        {
          "name": "stdout",
          "output_type": "stream",
          "text": [
            "0  /  21\n",
            "0  /  21613\n"
          ]
        }
      ],
      "source": [
        "# Check any number of columns with NaN\n",
        "print(data.isnull().any().sum(), ' / ', len(data.columns))\n",
        "# Check any number of data points with NaN\n",
        "print(data.isnull().any(axis=1).sum(), ' / ', len(data))"
      ]
    },
    {
      "cell_type": "markdown",
      "metadata": {
        "id": "BaSzvkcd73rN"
      },
      "source": [
        "The data set is pretty much structured and doesn't have any NaN values. So we can jump into finding correlations between the features and the target variable."
      ]
    },
    {
      "cell_type": "markdown",
      "metadata": {
        "id": "gjAieGGM757l"
      },
      "source": [
        "# 2. Correlations between features and target"
      ]
    },
    {
      "cell_type": "code",
      "execution_count": 19,
      "metadata": {
        "id": "DYe6DXwe73an"
      },
      "outputs": [],
      "source": [
        "features = data.iloc[:,3:].columns.tolist()\n",
        "target = data.iloc[:,2].name"
      ]
    },
    {
      "cell_type": "code",
      "execution_count": 20,
      "metadata": {
        "id": "C0NgUfwt7--q"
      },
      "outputs": [],
      "source": [
        "correlations = {}\n",
        "for f in features:\n",
        "    data_temp = data[[f,target]]\n",
        "    x1 = data_temp[f].values\n",
        "    x2 = data_temp[target].values\n",
        "    key = f + ' vs ' + target\n",
        "    correlations[key] = pearsonr(x1,x2)[0]"
      ]
    },
    {
      "cell_type": "code",
      "execution_count": 21,
      "metadata": {
        "colab": {
          "base_uri": "https://localhost:8080/",
          "height": 600
        },
        "id": "tkh6Rzxu8A6L",
        "outputId": "2474106a-9e2e-45d8-90ae-41b3ed40fa2b"
      },
      "outputs": [
        {
          "data": {
            "text/html": [
              "<div>\n",
              "<style scoped>\n",
              "    .dataframe tbody tr th:only-of-type {\n",
              "        vertical-align: middle;\n",
              "    }\n",
              "\n",
              "    .dataframe tbody tr th {\n",
              "        vertical-align: top;\n",
              "    }\n",
              "\n",
              "    .dataframe thead th {\n",
              "        text-align: right;\n",
              "    }\n",
              "</style>\n",
              "<table border=\"1\" class=\"dataframe\">\n",
              "  <thead>\n",
              "    <tr style=\"text-align: right;\">\n",
              "      <th></th>\n",
              "      <th>Value</th>\n",
              "    </tr>\n",
              "  </thead>\n",
              "  <tbody>\n",
              "    <tr>\n",
              "      <th>sqft_living vs price</th>\n",
              "      <td>0.702035</td>\n",
              "    </tr>\n",
              "    <tr>\n",
              "      <th>grade vs price</th>\n",
              "      <td>0.667434</td>\n",
              "    </tr>\n",
              "    <tr>\n",
              "      <th>sqft_above vs price</th>\n",
              "      <td>0.605567</td>\n",
              "    </tr>\n",
              "    <tr>\n",
              "      <th>sqft_living15 vs price</th>\n",
              "      <td>0.585379</td>\n",
              "    </tr>\n",
              "    <tr>\n",
              "      <th>bathrooms vs price</th>\n",
              "      <td>0.525138</td>\n",
              "    </tr>\n",
              "    <tr>\n",
              "      <th>view vs price</th>\n",
              "      <td>0.397293</td>\n",
              "    </tr>\n",
              "    <tr>\n",
              "      <th>sqft_basement vs price</th>\n",
              "      <td>0.323816</td>\n",
              "    </tr>\n",
              "    <tr>\n",
              "      <th>bedrooms vs price</th>\n",
              "      <td>0.308350</td>\n",
              "    </tr>\n",
              "    <tr>\n",
              "      <th>lat vs price</th>\n",
              "      <td>0.307003</td>\n",
              "    </tr>\n",
              "    <tr>\n",
              "      <th>waterfront vs price</th>\n",
              "      <td>0.266369</td>\n",
              "    </tr>\n",
              "    <tr>\n",
              "      <th>floors vs price</th>\n",
              "      <td>0.256794</td>\n",
              "    </tr>\n",
              "    <tr>\n",
              "      <th>yr_renovated vs price</th>\n",
              "      <td>0.126434</td>\n",
              "    </tr>\n",
              "    <tr>\n",
              "      <th>sqft_lot vs price</th>\n",
              "      <td>0.089661</td>\n",
              "    </tr>\n",
              "    <tr>\n",
              "      <th>sqft_lot15 vs price</th>\n",
              "      <td>0.082447</td>\n",
              "    </tr>\n",
              "    <tr>\n",
              "      <th>yr_built vs price</th>\n",
              "      <td>0.054012</td>\n",
              "    </tr>\n",
              "    <tr>\n",
              "      <th>zipcode vs price</th>\n",
              "      <td>-0.053203</td>\n",
              "    </tr>\n",
              "    <tr>\n",
              "      <th>condition vs price</th>\n",
              "      <td>0.036362</td>\n",
              "    </tr>\n",
              "    <tr>\n",
              "      <th>long vs price</th>\n",
              "      <td>0.021626</td>\n",
              "    </tr>\n",
              "  </tbody>\n",
              "</table>\n",
              "</div>"
            ],
            "text/plain": [
              "                           Value\n",
              "sqft_living vs price    0.702035\n",
              "grade vs price          0.667434\n",
              "sqft_above vs price     0.605567\n",
              "sqft_living15 vs price  0.585379\n",
              "bathrooms vs price      0.525138\n",
              "view vs price           0.397293\n",
              "sqft_basement vs price  0.323816\n",
              "bedrooms vs price       0.308350\n",
              "lat vs price            0.307003\n",
              "waterfront vs price     0.266369\n",
              "floors vs price         0.256794\n",
              "yr_renovated vs price   0.126434\n",
              "sqft_lot vs price       0.089661\n",
              "sqft_lot15 vs price     0.082447\n",
              "yr_built vs price       0.054012\n",
              "zipcode vs price       -0.053203\n",
              "condition vs price      0.036362\n",
              "long vs price           0.021626"
            ]
          },
          "execution_count": 21,
          "metadata": {},
          "output_type": "execute_result"
        }
      ],
      "source": [
        "data_correlations = pd.DataFrame(correlations, index=['Value']).T\n",
        "data_correlations.loc[data_correlations['Value'].abs().sort_values(ascending=False).index]"
      ]
    },
    {
      "cell_type": "markdown",
      "metadata": {
        "id": "dNk8tLDD8GLM"
      },
      "source": [
        "We can see that the top 5 features are the most correlated features with the target \"price\"\n",
        "Let's plot the best 2 regressors jointly"
      ]
    },
    {
      "cell_type": "code",
      "execution_count": 22,
      "metadata": {
        "id": "Qc_fnROo8F5K"
      },
      "outputs": [],
      "source": [
        "y = data.loc[:,['sqft_living','grade',target]].sort_values(target, ascending=True).values\n",
        "x = np.arange(y.shape[0])"
      ]
    },
    {
      "cell_type": "code",
      "execution_count": 23,
      "metadata": {
        "colab": {
          "base_uri": "https://localhost:8080/",
          "height": 281
        },
        "id": "LvcqVSMW8MEn",
        "outputId": "9055ec94-a614-4173-8c8b-0767006851bb"
      },
      "outputs": [
        {
          "data": {
            "image/png": "[encoded data removed]",
            "text/plain": [
              "<Figure size 432x288 with 3 Axes>"
            ]
          },
          "metadata": {
            "needs_background": "light"
          },
          "output_type": "display_data"
        }
      ],
      "source": [
        "%matplotlib inline\n",
        "plt.subplot(3,1,1)\n",
        "plt.plot(x,y[:,0])\n",
        "plt.title('Sqft and Grade vs Price')\n",
        "plt.ylabel('Sqft')\n",
        "\n",
        "plt.subplot(3,1,2)\n",
        "plt.plot(x,y[:,1])\n",
        "plt.ylabel('Grade')\n",
        "\n",
        "plt.subplot(3,1,3)\n",
        "plt.plot(x,y[:,2],'r')\n",
        "plt.ylabel(\"Price\")\n",
        "\n",
        "plt.show()"
      ]
    },
    {
      "cell_type": "markdown",
      "metadata": {
        "id": "MbOM63wf8N0Y"
      },
      "source": [
        "# 3. Predicting House Sales Prices"
      ]
    },
    {
      "cell_type": "code",
      "execution_count": 25,
      "metadata": {
        "id": "ckTHpoeP8RjT"
      },
      "outputs": [],
      "source": [
        "import sklearn\n",
        "from sklearn import linear_model\n",
        "# Train a simple linear regression model\n",
        "regr = linear_model.LinearRegression()\n",
        "new_data = data[['sqft_living','grade', 'sqft_above', 'sqft_living15','bathrooms','view','sqft_basement','lat','waterfront','yr_built','bedrooms']]"
      ]
    },
    {
      "cell_type": "code",
      "execution_count": 26,
      "metadata": {
        "id": "arqxeEJV8hiP"
      },
      "outputs": [],
      "source": [
        "X = new_data.values\n",
        "y = data.price.values"
      ]
    },
    {
      "cell_type": "code",
      "execution_count": 34,
      "metadata": {
        "id": "rS2de5Yg8jAU"
      },
      "outputs": [],
      "source": [
        "from sklearn.model_selection import train_test_split\n",
        "X_train, X_test, y_train, y_test = train_test_split(X, y ,test_size=0.2)"
      ]
    },
    {
      "cell_type": "code",
      "execution_count": 36,
      "metadata": {
        "colab": {
          "base_uri": "https://localhost:8080/"
        },
        "id": "48RynmLQ9Z8o",
        "outputId": "69093026-c507-401f-e665-bd55b4d7763b"
      },
      "outputs": [
        {
          "data": {
            "text/plain": [
              "LinearRegression(copy_X=True, fit_intercept=True, n_jobs=None, normalize=False)"
            ]
          },
          "execution_count": 36,
          "metadata": {},
          "output_type": "execute_result"
        }
      ],
      "source": [
        "regr.fit(X_test,y_test)"
      ]
    },
    {
      "cell_type": "code",
      "execution_count": 37,
      "metadata": {
        "colab": {
          "base_uri": "https://localhost:8080/"
        },
        "id": "is1e7Qni9vSP",
        "outputId": "d44f5daa-e450-46b0-958f-4b154c49e779"
      },
      "outputs": [
        {
          "name": "stdout",
          "output_type": "stream",
          "text": [
            "RMSE: 191346.74\n"
          ]
        }
      ],
      "source": [
        "# Calculate the Root Mean Squared Error\n",
        "print(\"RMSE: %.2f\"\n",
        "      % math.sqrt(np.mean((regr.predict(X_test) - y_test) ** 2)))"
      ]
    },
    {
      "cell_type": "code",
      "execution_count": 38,
      "metadata": {
        "id": "DeGE-dmb9wcB"
      },
      "outputs": [],
      "source": [
        "# Let's try XGboost algorithm to see if we can get better results\n",
        "xgb = xgboost.XGBRegressor(n_estimators=100, learning_rate=0.08, gamma=0, subsample=0.75,\n",
        "                           colsample_bytree=1, max_depth=7)"
      ]
    },
    {
      "cell_type": "code",
      "execution_count": 39,
      "metadata": {
        "colab": {
          "base_uri": "https://localhost:8080/"
        },
        "id": "x_FmbSsx9yO6",
        "outputId": "980cea3b-357b-4be1-80fe-99493e01a960"
      },
      "outputs": [
        {
          "name": "stdout",
          "output_type": "stream",
          "text": [
            "[06:37:13] WARNING: /workspace/src/objective/regression_obj.cu:152: reg:linear is now deprecated in favor of reg:squarederror.\n"
          ]
        },
        {
          "data": {
            "text/plain": [
              "XGBRegressor(base_score=0.5, booster='gbtree', colsample_bylevel=1,\n",
              "             colsample_bynode=1, colsample_bytree=1, gamma=0,\n",
              "             importance_type='gain', learning_rate=0.08, max_delta_step=0,\n",
              "             max_depth=7, min_child_weight=1, missing=None, n_estimators=100,\n",
              "             n_jobs=1, nthread=None, objective='reg:linear', random_state=0,\n",
              "             reg_alpha=0, reg_lambda=1, scale_pos_weight=1, seed=None,\n",
              "             silent=None, subsample=0.75, verbosity=1)"
            ]
          },
          "execution_count": 39,
          "metadata": {},
          "output_type": "execute_result"
        }
      ],
      "source": [
        "traindf, testdf = train_test_split(X_train, test_size = 0.3)\n",
        "xgb.fit(X_train,y_train)"
      ]
    },
    {
      "cell_type": "code",
      "execution_count": 40,
      "metadata": {
        "colab": {
          "base_uri": "https://localhost:8080/"
        },
        "id": "sfTkVUxg90UE",
        "outputId": "302bc0e9-cba9-486c-c948-3115a57b42b0"
      },
      "outputs": [
        {
          "name": "stdout",
          "output_type": "stream",
          "text": [
            "0.7960403884753028\n"
          ]
        }
      ],
      "source": [
        "predictions = xgb.predict(X_test)\n",
        "print(explained_variance_score(predictions,y_test))"
      ]
    },
    {
      "cell_type": "markdown",
      "metadata": {
        "id": "8VGztZCv93U-"
      },
      "source": [
        "Our accuracy is changing between 79%. I think it is close to an optimal solution.\n",
        " "
      ]
    }
  ],
  "metadata": {
    "colab": {
      "authorship_tag": "ABX9TyN5Y+zgMT5AlT53cBC+TX+6",
      "include_colab_link": true,
      "name": "W7-1-XGBOOST.ipynb",
      "provenance": []
    },
    "kernelspec": {
      "display_name": "Python 3",
      "name": "python3"
    },
    "language_info": {
      "name": "python"
    }
  },
  "nbformat": 4,
  "nbformat_minor": 0
}
