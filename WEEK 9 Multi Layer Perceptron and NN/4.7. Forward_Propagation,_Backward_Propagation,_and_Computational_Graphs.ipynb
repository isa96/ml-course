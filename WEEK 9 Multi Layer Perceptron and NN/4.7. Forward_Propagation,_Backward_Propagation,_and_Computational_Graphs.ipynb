{
  "cells": [
    {
      "cell_type": "markdown",
      "metadata": {
        "id": "f1sKQ3TD3jyk"
      },
      "source": [
        "In this section, we take a deep dive into the details of backward propagation (more commonly called backpropagation)."
      ]
    },
    {
      "cell_type": "markdown",
      "metadata": {
        "id": "iTozxWTM3lYp"
      },
      "source": [
        "##Forward Propagation\n",
        "Forward propagation (or forward pass) refers to the calculation and storage of intermediate variables (including outputs) for a neural network in order from the input layer to the output layer."
      ]
    },
    {
      "cell_type": "markdown",
      "metadata": {
        "id": "CC9grUxC33nD"
      },
      "source": [
        "##Backpropagation\n",
        "Backpropagation refers to the method of calculating the gradient of neural network parameters. In short, the method traverses the network in reverse order, from the output to the input layer."
      ]
    },
    {
      "cell_type": "markdown",
      "metadata": {
        "id": "roQ9s5hb4EbR"
      },
      "source": [
        "##Training Neural Networks\n",
        "When training neural networks, after model parameters are initialized, we alternate forward propagation with backpropagation, updating model parameters using gradients given by backpropagation."
      ]
    },
    {
      "cell_type": "markdown",
      "metadata": {
        "id": "sEhau7jb4i0N"
      },
      "source": [
        "##Summary\n",
        "When training deep learning models, forward propagation and back propagation are interdependent.\n",
        "\n",
        "Training requires significantly more memory than prediction."
      ]
    }
  ],
  "metadata": {
    "colab": {
      "authorship_tag": "ABX9TyPWyU6cr+SgNptGTb5WNoXg",
      "include_colab_link": true,
      "name": "4.7. Forward Propagation, Backward Propagation, and Computational Graphs.ipynb",
      "provenance": []
    },
    "kernelspec": {
      "display_name": "Python 3",
      "name": "python3"
    },
    "language_info": {
      "name": "python"
    }
  },
  "nbformat": 4,
  "nbformat_minor": 0
}
