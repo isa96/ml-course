{
  "cells": [
    {
      "cell_type": "markdown",
      "metadata": {
        "id": "wPP1DnnTOVDR"
      },
      "source": [
        "###Covariate Shift\n",
        "Consider the challenge of distinguishing cats and dogs. Our training data might consist of images of the kind in figure below:\n",
        "\n",
        "\n",
        "At test time we are asked to classify the images in figure below:\n",
        "\n",
        "\n",
        "The training set consists of photos, while the test set contains only cartoons. Training on a dataset with substantially different characteristics from the test set can spell trouble absent a coherent plan for how to adapt to the new domain."
      ]
    },
    {
      "cell_type": "markdown",
      "metadata": {
        "id": "Kn9WfOAZNN9_"
      },
      "source": [
        "##Environment and Distribution Shift\n",
        "* In many cases training and test sets do not come from the same distribution. This is called distribution shift.\n",
        "* The risk is the expectation of the loss over the entire population of data drawn from their true distribution. However, this entire population is usually unavailable. Empirical risk is an average loss over the training data to approximate the risk. In practice, we perform empirical risk minimization.\n",
        "* Under the corresponding assumptions, covariate and label shift can be detected and corrected for at test time. Failure to account for this bias can become problematic at test time.\n",
        "* In some cases, the environment may remember automated actions and respond in surprising ways. We must account for this possibility when building models and continue to monitor live systems, open to the possibility that our models and the environment will become entangled in unanticipated ways."
      ]
    }
  ],
  "metadata": {
    "colab": {
      "authorship_tag": "ABX9TyOy95kuikQ/HVQxV+uE+9N6",
      "include_colab_link": true,
      "name": "4.9. Environment and Distribution Shift.ipynb",
      "provenance": []
    },
    "kernelspec": {
      "display_name": "Python 3",
      "name": "python3"
    },
    "language_info": {
      "name": "python"
    }
  },
  "nbformat": 4,
  "nbformat_minor": 0
}
